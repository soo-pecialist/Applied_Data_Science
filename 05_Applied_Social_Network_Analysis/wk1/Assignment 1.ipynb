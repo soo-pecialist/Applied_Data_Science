{
 "cells": [
  {
   "cell_type": "markdown",
   "metadata": {},
   "source": [
    "# Assignment 1 - Creating and Manipulating Graphs\n",
    "\n",
    "Eight employees at a small company were asked to choose 3 movies that they would most enjoy watching for the upcoming company movie night. These choices are stored in the file `Employee_Movie_Choices.txt`.\n",
    "\n",
    "A second file, `Employee_Relationships.txt`, has data on the relationships between different coworkers. \n",
    "\n",
    "The relationship score has value of `-100` (Enemies) to `+100` (Best Friends). A value of zero means the two employees haven't interacted or are indifferent.\n",
    "\n",
    "Both files are tab delimited."
   ]
  },
  {
   "cell_type": "code",
   "execution_count": 1,
   "metadata": {},
   "outputs": [],
   "source": [
    "import networkx as nx\n",
    "import pandas as pd\n",
    "import numpy as np\n",
    "from networkx.algorithms import bipartite\n",
    "\n",
    "\n",
    "# This is the set of employees\n",
    "employees = set(['Pablo',\n",
    "                 'Lee',\n",
    "                 'Georgia',\n",
    "                 'Vincent',\n",
    "                 'Andy',\n",
    "                 'Frida',\n",
    "                 'Joan',\n",
    "                 'Claude'])\n",
    "\n",
    "# This is the set of movies\n",
    "movies = set(['The Shawshank Redemption',\n",
    "              'Forrest Gump',\n",
    "              'The Matrix',\n",
    "              'Anaconda',\n",
    "              'The Social Network',\n",
    "              'The Godfather',\n",
    "              'Monty Python and the Holy Grail',\n",
    "              'Snakes on a Plane',\n",
    "              'Kung Fu Panda',\n",
    "              'The Dark Knight',\n",
    "              'Mean Girls'])\n",
    "\n",
    "\n",
    "# you can use the following function to plot graphs\n",
    "# make sure to comment it out before submitting to the autograder\n",
    "def plot_graph(G, weight_name=None):\n",
    "    '''\n",
    "    G: a networkx G\n",
    "    weight_name: name of the attribute for plotting edge weights (if G is weighted)\n",
    "    '''\n",
    "    %matplotlib notebook\n",
    "    import matplotlib.pyplot as plt\n",
    "    \n",
    "    plt.figure()\n",
    "    pos = nx.spring_layout(G)\n",
    "    edges = G.edges()\n",
    "    weights = None\n",
    "    \n",
    "    if weight_name:\n",
    "        weights = [int(G[u][v][weight_name]) for u,v in edges]\n",
    "        labels = nx.get_edge_attributes(G,weight_name)\n",
    "        nx.draw_networkx_edge_labels(G,pos,edge_labels=labels)\n",
    "        nx.draw_networkx(G, pos, edges=edges, width=weights);\n",
    "    else:\n",
    "        nx.draw_networkx(G, pos, edges=edges);"
   ]
  },
  {
   "cell_type": "markdown",
   "metadata": {},
   "source": [
    "### Question 1\n",
    "\n",
    "Using NetworkX, load in the bipartite graph from `Employee_Movie_Choices.txt` and return that graph.\n",
    "\n",
    "*This function should return a networkx graph with 19 nodes and 24 edges*"
   ]
  },
  {
   "cell_type": "code",
   "execution_count": 2,
   "metadata": {},
   "outputs": [],
   "source": [
    "def answer_one():\n",
    "    return nx.read_edgelist('Employee_Movie_Choices.txt', delimiter=\"\\t\")"
   ]
  },
  {
   "cell_type": "markdown",
   "metadata": {},
   "source": [
    "### Question 2\n",
    "\n",
    "Using the graph from the previous question, add nodes attributes named `'type'` where movies have the value `'movie'` and employees have the value `'employee'` and return that graph.\n",
    "\n",
    "*This function should return a networkx graph with node attributes `{'type': 'movie'}` or `{'type': 'employee'}`*"
   ]
  },
  {
   "cell_type": "code",
   "execution_count": 3,
   "metadata": {},
   "outputs": [],
   "source": [
    "def answer_two():\n",
    "    \n",
    "    G = answer_one()\n",
    "    for node in G.nodes():\n",
    "        if node in employees:\n",
    "            G.add_node(node, type='employee')\n",
    "        if node in movies:\n",
    "            G.add_node(node, type='movie')\n",
    "    \n",
    "    return G"
   ]
  },
  {
   "cell_type": "markdown",
   "metadata": {
    "collapsed": true
   },
   "source": [
    "### Question 3\n",
    "\n",
    "Find a weighted projection of the graph from `answer_two` which tells us how many movies different pairs of employees have in common.\n",
    "\n",
    "*This function should return a weighted projected graph.*"
   ]
  },
  {
   "cell_type": "code",
   "execution_count": 4,
   "metadata": {},
   "outputs": [],
   "source": [
    "def answer_three():\n",
    "        \n",
    "    G = answer_two()\n",
    "    weighted_projected_graph = bipartite.weighted_projected_graph(G, employees)\n",
    "    \n",
    "    return weighted_projected_graph"
   ]
  },
  {
   "cell_type": "markdown",
   "metadata": {
    "collapsed": true
   },
   "source": [
    "### Question 4\n",
    "\n",
    "Suppose you'd like to find out if people that have a high relationship score also like the same types of movies.\n",
    "\n",
    "Find the Pearson correlation ( using `DataFrame.corr()` ) between employee relationship scores and the number of movies they have in common. If two employees have no movies in common it should be treated as a 0, not a missing value, and should be included in the correlation calculation.\n",
    "\n",
    "*This function should return a float.*"
   ]
  },
  {
   "cell_type": "code",
   "execution_count": 5,
   "metadata": {},
   "outputs": [],
   "source": [
    "# !cat 'Employee_Relationships.txt' "
   ]
  },
  {
   "cell_type": "code",
   "execution_count": 6,
   "metadata": {},
   "outputs": [],
   "source": [
    "def answer_four():\n",
    "        \n",
    "    G = answer_three()\n",
    "    Rel = nx.read_edgelist('Employee_Relationships.txt' ,data=[('relationship_score', int)])\n",
    "\n",
    "    G_df = nx.to_pandas_edgelist(G)\n",
    "    G_df.columns = ['from', 'to', 'movie_score']\n",
    "\n",
    "    # df = pd.DataFrame(G.edges(data=True), columns=['From', 'to', 'score'])\n",
    "    Rel_df = nx.to_pandas_edgelist(Rel)\n",
    "    Rel_df.columns = ['from', 'to', 'relationship_score']\n",
    "\n",
    "\n",
    "    G_df2 = G_df.copy()\n",
    "    G_df2.columns = ['to', 'from', 'movie_score']\n",
    "\n",
    "    G_final_df = pd.concat([G_df, G_df2], sort=True)\n",
    "\n",
    "    final_df = pd.merge(G_final_df, Rel_df, on = ['from', 'to'], how='right')\n",
    "    final_df['movie_score'] = final_df['movie_score'].map(lambda x: 0. if np.isnan(x) else x)\n",
    "\n",
    "    corr = final_df.corr().iloc[0,1]\n",
    "    \n",
    "    return corr"
   ]
  },
  {
   "cell_type": "code",
   "execution_count": 7,
   "metadata": {},
   "outputs": [
    {
     "data": {
      "text/plain": [
       "0.7883962221733474"
      ]
     },
     "execution_count": 7,
     "metadata": {},
     "output_type": "execute_result"
    }
   ],
   "source": [
    "answer_four()"
   ]
  },
  {
   "cell_type": "code",
   "execution_count": 8,
   "metadata": {},
   "outputs": [
    {
     "name": "stdout",
     "output_type": "stream",
     "text": [
      "[('Pablo', 'Frida', {'weight': 2}), ('Pablo', 'Andy', {'weight': 1}), ('Pablo', 'Vincent', {'weight': 1}), ('Frida', 'Andy', {'weight': 1}), ('Frida', 'Vincent', {'weight': 2}), ('Andy', 'Claude', {'weight': 1}), ('Andy', 'Lee', {'weight': 1}), ('Andy', 'Joan', {'weight': 1}), ('Andy', 'Georgia', {'weight': 1}), ('Claude', 'Georgia', {'weight': 3}), ('Lee', 'Joan', {'weight': 3})]\n",
      "\n",
      "[('Andy', 'Claude', {'relationship_score': 0}), ('Andy', 'Frida', {'relationship_score': 20}), ('Andy', 'Georgia', {'relationship_score': -10}), ('Andy', 'Joan', {'relationship_score': 30}), ('Andy', 'Lee', {'relationship_score': -10}), ('Andy', 'Pablo', {'relationship_score': -10}), ('Andy', 'Vincent', {'relationship_score': 20}), ('Claude', 'Frida', {'relationship_score': 0}), ('Claude', 'Georgia', {'relationship_score': 90}), ('Claude', 'Joan', {'relationship_score': 0}), ('Claude', 'Lee', {'relationship_score': 0}), ('Claude', 'Pablo', {'relationship_score': 10}), ('Claude', 'Vincent', {'relationship_score': 0}), ('Frida', 'Georgia', {'relationship_score': 0}), ('Frida', 'Joan', {'relationship_score': 0}), ('Frida', 'Lee', {'relationship_score': 0}), ('Frida', 'Pablo', {'relationship_score': 50}), ('Frida', 'Vincent', {'relationship_score': 60}), ('Georgia', 'Joan', {'relationship_score': 0}), ('Georgia', 'Lee', {'relationship_score': 10}), ('Georgia', 'Pablo', {'relationship_score': 0}), ('Georgia', 'Vincent', {'relationship_score': 0}), ('Joan', 'Lee', {'relationship_score': 70}), ('Joan', 'Pablo', {'relationship_score': 0}), ('Joan', 'Vincent', {'relationship_score': 10}), ('Lee', 'Pablo', {'relationship_score': 0}), ('Lee', 'Vincent', {'relationship_score': 0}), ('Pablo', 'Vincent', {'relationship_score': -20})]\n",
      "\n",
      "      from       to  movie_score\n",
      "0    Pablo    Frida            2\n",
      "1    Pablo     Andy            1\n",
      "2    Pablo  Vincent            1\n",
      "3    Frida     Andy            1\n",
      "4    Frida  Vincent            2\n",
      "5     Andy   Claude            1\n",
      "6     Andy      Lee            1\n",
      "7     Andy     Joan            1\n",
      "8     Andy  Georgia            1\n",
      "9   Claude  Georgia            3\n",
      "10     Lee     Joan            3\n",
      "\n",
      "       from       to  relationship_score\n",
      "0      Andy   Claude                   0\n",
      "1      Andy    Frida                  20\n",
      "2      Andy  Georgia                 -10\n",
      "3      Andy     Joan                  30\n",
      "4      Andy      Lee                 -10\n",
      "5      Andy    Pablo                 -10\n",
      "6      Andy  Vincent                  20\n",
      "7    Claude    Frida                   0\n",
      "8    Claude  Georgia                  90\n",
      "9    Claude     Joan                   0\n",
      "10   Claude      Lee                   0\n",
      "11   Claude    Pablo                  10\n",
      "12   Claude  Vincent                   0\n",
      "13    Frida  Georgia                   0\n",
      "14    Frida     Joan                   0\n",
      "15    Frida      Lee                   0\n",
      "16    Frida    Pablo                  50\n",
      "17    Frida  Vincent                  60\n",
      "18  Georgia     Joan                   0\n",
      "19  Georgia      Lee                  10\n",
      "20  Georgia    Pablo                   0\n",
      "21  Georgia  Vincent                   0\n",
      "22     Joan      Lee                  70\n",
      "23     Joan    Pablo                   0\n",
      "24     Joan  Vincent                  10\n",
      "25      Lee    Pablo                   0\n",
      "26      Lee  Vincent                   0\n",
      "27    Pablo  Vincent                 -20\n",
      "\n",
      "       from  movie_score       to  relationship_score\n",
      "0     Pablo          1.0  Vincent                 -20\n",
      "1     Frida          2.0  Vincent                  60\n",
      "2      Andy          1.0   Claude                   0\n",
      "3      Andy          1.0      Lee                 -10\n",
      "4      Andy          1.0     Joan                  30\n",
      "5      Andy          1.0  Georgia                 -10\n",
      "6    Claude          3.0  Georgia                  90\n",
      "7     Frida          2.0    Pablo                  50\n",
      "8      Andy          1.0    Pablo                 -10\n",
      "9      Andy          1.0    Frida                  20\n",
      "10     Joan          3.0      Lee                  70\n",
      "11     Andy          0.0  Vincent                  20\n",
      "12   Claude          0.0    Frida                   0\n",
      "13   Claude          0.0     Joan                   0\n",
      "14   Claude          0.0      Lee                   0\n",
      "15   Claude          0.0    Pablo                  10\n",
      "16   Claude          0.0  Vincent                   0\n",
      "17    Frida          0.0  Georgia                   0\n",
      "18    Frida          0.0     Joan                   0\n",
      "19    Frida          0.0      Lee                   0\n",
      "20  Georgia          0.0     Joan                   0\n",
      "21  Georgia          0.0      Lee                  10\n",
      "22  Georgia          0.0    Pablo                   0\n",
      "23  Georgia          0.0  Vincent                   0\n",
      "24     Joan          0.0    Pablo                   0\n",
      "25     Joan          0.0  Vincent                  10\n",
      "26      Lee          0.0    Pablo                   0\n",
      "27      Lee          0.0  Vincent                   0\n"
     ]
    },
    {
     "data": {
      "text/html": [
       "<div>\n",
       "<style scoped>\n",
       "    .dataframe tbody tr th:only-of-type {\n",
       "        vertical-align: middle;\n",
       "    }\n",
       "\n",
       "    .dataframe tbody tr th {\n",
       "        vertical-align: top;\n",
       "    }\n",
       "\n",
       "    .dataframe thead th {\n",
       "        text-align: right;\n",
       "    }\n",
       "</style>\n",
       "<table border=\"1\" class=\"dataframe\">\n",
       "  <thead>\n",
       "    <tr style=\"text-align: right;\">\n",
       "      <th></th>\n",
       "      <th>movie_score</th>\n",
       "      <th>relationship_score</th>\n",
       "    </tr>\n",
       "  </thead>\n",
       "  <tbody>\n",
       "    <tr>\n",
       "      <th>movie_score</th>\n",
       "      <td>1.000000</td>\n",
       "      <td>0.788396</td>\n",
       "    </tr>\n",
       "    <tr>\n",
       "      <th>relationship_score</th>\n",
       "      <td>0.788396</td>\n",
       "      <td>1.000000</td>\n",
       "    </tr>\n",
       "  </tbody>\n",
       "</table>\n",
       "</div>"
      ],
      "text/plain": [
       "                    movie_score  relationship_score\n",
       "movie_score            1.000000            0.788396\n",
       "relationship_score     0.788396            1.000000"
      ]
     },
     "execution_count": 8,
     "metadata": {},
     "output_type": "execute_result"
    }
   ],
   "source": [
    "# G = answer_three()\n",
    "# print(G.edges(data=True), end='\\n\\n')\n",
    "\n",
    "# Rel = nx.read_edgelist('Employee_Relationships.txt' ,data=[('relationship_score', int)])\n",
    "# print(Rel.edges(data=True), end='\\n\\n')\n",
    "\n",
    "# G_df = nx.to_pandas_edgelist(G)\n",
    "# G_df.columns = ['from', 'to', 'movie_score']\n",
    "# print(G_df, end='\\n\\n')\n",
    "\n",
    "# # df = pd.DataFrame(G.edges(data=True), columns=['From', 'to', 'score'])\n",
    "# Rel_df = nx.to_pandas_edgelist(Rel)\n",
    "# Rel_df.columns = ['from', 'to', 'relationship_score']\n",
    "# print(Rel_df, end='\\n\\n')\n",
    "\n",
    "# G_df2 = G_df.copy()\n",
    "# G_df2.columns = ['to', 'from', 'movie_score']\n",
    "\n",
    "# G_final_df = pd.concat([G_df, G_df2], sort=True)\n",
    "\n",
    "# final_df = pd.merge(G_final_df, Rel_df, on = ['from', 'to'], how='right')\n",
    "# final_df['movie_score'] = final_df['movie_score'].map(lambda x: 0. if np.isnan(x) else x)\n",
    "# print(final_df)\n",
    "\n",
    "# final_df.corr()"
   ]
  },
  {
   "cell_type": "code",
   "execution_count": null,
   "metadata": {},
   "outputs": [],
   "source": []
  }
 ],
 "metadata": {
  "coursera": {
   "course_slug": "python-social-network-analysis",
   "graded_item_id": "YNa9b",
   "launcher_item_id": "hvNc1",
   "part_id": "VbyiB"
  },
  "kernelspec": {
   "display_name": "Python 3",
   "language": "python",
   "name": "python3"
  },
  "language_info": {
   "codemirror_mode": {
    "name": "ipython",
    "version": 3
   },
   "file_extension": ".py",
   "mimetype": "text/x-python",
   "name": "python",
   "nbconvert_exporter": "python",
   "pygments_lexer": "ipython3",
   "version": "3.6.5"
  }
 },
 "nbformat": 4,
 "nbformat_minor": 2
}
