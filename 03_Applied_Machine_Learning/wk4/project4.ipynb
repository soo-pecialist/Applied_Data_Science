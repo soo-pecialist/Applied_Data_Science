{
 "cells": [
  {
   "cell_type": "markdown",
   "metadata": {},
   "source": [
    "## Assignment 4 - Understanding and Predicting Property Maintenance Fines\n",
    "\n",
    "This assignment is based on a data challenge from the Michigan Data Science Team ([MDST](http://midas.umich.edu/mdst/)). \n",
    "\n",
    "The Michigan Data Science Team ([MDST](http://midas.umich.edu/mdst/)) and the Michigan Student Symposium for Interdisciplinary Statistical Sciences ([MSSISS](https://sites.lsa.umich.edu/mssiss/)) have partnered with the City of Detroit to help solve one of the most pressing problems facing Detroit - blight. [Blight violations](http://www.detroitmi.gov/How-Do-I/Report/Blight-Complaint-FAQs) are issued by the city to individuals who allow their properties to remain in a deteriorated condition. Every year, the city of Detroit issues millions of dollars in fines to residents and every year, many of these fines remain unpaid. Enforcing unpaid blight fines is a costly and tedious process, so the city wants to know: how can we increase blight ticket compliance?\n",
    "\n",
    "The first step in answering this question is understanding when and why a resident might fail to comply with a blight ticket. This is where predictive modeling comes in. For this assignment, your task is to predict whether a given blight ticket will be paid on time.\n",
    "\n",
    "All data for this assignment has been provided to us through the [Detroit Open Data Portal](https://data.detroitmi.gov/). **Only the data already included in your Coursera directory can be used for training the model for this assignment.** Nonetheless, we encourage you to look into data from other Detroit datasets to help inform feature creation and model selection. We recommend taking a look at the following related datasets:\n",
    "\n",
    "* [Building Permits](https://data.detroitmi.gov/Property-Parcels/Building-Permits/xw2a-a7tf)\n",
    "* [Trades Permits](https://data.detroitmi.gov/Property-Parcels/Trades-Permits/635b-dsgv)\n",
    "* [Improve Detroit: Submitted Issues](https://data.detroitmi.gov/Government/Improve-Detroit-Submitted-Issues/fwz3-w3yn)\n",
    "* [DPD: Citizen Complaints](https://data.detroitmi.gov/Public-Safety/DPD-Citizen-Complaints-2016/kahe-efs3)\n",
    "* [Parcel Map](https://data.detroitmi.gov/Property-Parcels/Parcel-Map/fxkw-udwf)\n",
    "\n",
    "___\n",
    "\n",
    "We provide you with two data files for use in training and validating your models: train.csv and test.csv. Each row in these two files corresponds to a single blight ticket, and includes information about when, why, and to whom each ticket was issued. The target variable is compliance, which is True if the ticket was paid early, on time, or within one month of the hearing data, False if the ticket was paid after the hearing date or not at all, and Null if the violator was found not responsible. Compliance, as well as a handful of other variables that will not be available at test-time, are only included in train.csv.\n",
    "\n",
    "Note: All tickets where the violators were found not responsible are not considered during evaluation. They are included in the training set as an additional source of data for visualization, and to enable unsupervised and semi-supervised approaches. However, they are not included in the test set.\n",
    "\n",
    "<br>\n",
    "\n",
    "**File descriptions** (Use only this data for training your model!)\n",
    "\n",
    "    train.csv - the training set (all tickets issued 2004-2011)\n",
    "    test.csv - the test set (all tickets issued 2012-2016)\n",
    "    addresses.csv & latlons.csv - mapping from ticket id to addresses, and from addresses to lat/lon coordinates. \n",
    "     Note: misspelled addresses may be incorrectly geolocated.\n",
    "\n",
    "<br>\n",
    "\n",
    "**Data fields**\n",
    "\n",
    "train.csv & test.csv\n",
    "\n",
    "    ticket_id - unique identifier for tickets\n",
    "    agency_name - Agency that issued the ticket\n",
    "    inspector_name - Name of inspector that issued the ticket\n",
    "    violator_name - Name of the person/organization that the ticket was issued to\n",
    "    violation_street_number, violation_street_name, violation_zip_code - Address where the violation occurred\n",
    "    mailing_address_str_number, mailing_address_str_name, city, state, zip_code, non_us_str_code, country - Mailing address of the violator\n",
    "    ticket_issued_date - Date and time the ticket was issued\n",
    "    hearing_date - Date and time the violator's hearing was scheduled\n",
    "    violation_code, violation_description - Type of violation\n",
    "    disposition - Judgment and judgement type\n",
    "    fine_amount - Violation fine amount, excluding fees\n",
    "    admin_fee - $20 fee assigned to responsible judgments\n",
    "state_fee - $10 fee assigned to responsible judgments\n",
    "    late_fee - 10% fee assigned to responsible judgments\n",
    "    discount_amount - discount applied, if any\n",
    "    clean_up_cost - DPW clean-up or graffiti removal cost\n",
    "    judgment_amount - Sum of all fines and fees\n",
    "    grafitti_status - Flag for graffiti violations\n",
    "    \n",
    "train.csv only\n",
    "\n",
    "    payment_amount - Amount paid, if any\n",
    "    payment_date - Date payment was made, if it was received\n",
    "    payment_status - Current payment status as of Feb 1 2017\n",
    "    balance_due - Fines and fees still owed\n",
    "    collection_status - Flag for payments in collections\n",
    "    compliance [target variable for prediction] \n",
    "     Null = Not responsible\n",
    "     0 = Responsible, non-compliant\n",
    "     1 = Responsible, compliant\n",
    "    compliance_detail - More information on why each ticket was marked compliant or non-compliant\n",
    "\n",
    "\n",
    "___\n",
    "\n",
    "## Evaluation\n",
    "\n",
    "Your predictions will be given as the probability that the corresponding blight ticket will be paid on time.\n",
    "\n",
    "The evaluation metric for this assignment is the Area Under the ROC Curve (AUC). \n",
    "\n",
    "Your grade will be based on the AUC score computed for your classifier. A model which with an AUROC of 0.7 passes this assignment, over 0.75 will recieve full points.\n",
    "___\n",
    "\n",
    "For this assignment, create a function that trains a model to predict blight ticket compliance in Detroit using `train.csv`. Using this model, return a series of length 61001 with the data being the probability that each corresponding ticket from `test.csv` will be paid, and the index being the ticket_id.\n",
    "\n",
    "Example:\n",
    "\n",
    "    ticket_id\n",
    "       284932    0.531842\n",
    "       285362    0.401958\n",
    "       285361    0.105928\n",
    "       285338    0.018572\n",
    "                 ...\n",
    "       376499    0.208567\n",
    "       376500    0.818759\n",
    "       369851    0.018528\n",
    "       Name: compliance, dtype: float32\n",
    "       \n",
    "### Hints\n",
    "\n",
    "* Make sure your code is working before submitting it to the autograder.\n",
    "\n",
    "* Print out your result to see whether there is anything weird (e.g., all probabilities are the same).\n",
    "\n",
    "* Generally the total runtime should be less than 10 mins. You should NOT use Neural Network related classifiers (e.g., MLPClassifier) in this question. \n",
    "\n",
    "* Try to avoid global variables. If you have other functions besides blight_model, you should move those functions inside the scope of blight_model.\n",
    "\n",
    "* Refer to the pinned threads in Week 4's discussion forum when there is something you could not figure it out."
   ]
  },
  {
   "cell_type": "code",
   "execution_count": 1,
   "metadata": {},
   "outputs": [],
   "source": [
    "# !head -n 2 train.csv"
   ]
  },
  {
   "cell_type": "code",
   "execution_count": 2,
   "metadata": {},
   "outputs": [],
   "source": [
    "# !head -n 2 test.csv"
   ]
  },
  {
   "cell_type": "markdown",
   "metadata": {},
   "source": [
    "# 0. Helpers"
   ]
  },
  {
   "cell_type": "code",
   "execution_count": 3,
   "metadata": {},
   "outputs": [],
   "source": [
    "%matplotlib inline\n",
    "import pandas as pd\n",
    "import numpy as np\n",
    "import matplotlib.pyplot as plt\n",
    "import warnings\n",
    "warnings.simplefilter(\"ignore\")"
   ]
  },
  {
   "cell_type": "code",
   "execution_count": 4,
   "metadata": {},
   "outputs": [],
   "source": [
    "def target_maker(x):\n",
    "    if x == 1.0:\n",
    "        return 1.0\n",
    "    elif x == 0.0:\n",
    "        return 0.0\n",
    "    else:\n",
    "        return -1.0\n",
    "    \n",
    "def date_parser_paid(row):\n",
    "    try:\n",
    "        if row['hearing_date'] >= row['payment_date']:\n",
    "            return 1.0\n",
    "        else:\n",
    "            return row['compliance']\n",
    "    except:\n",
    "        return row['compliance']\n",
    "    \n",
    "def date_parser_not_paid(row):\n",
    "    try:\n",
    "        if row['hearing_date'] < row['payment_date']:\n",
    "            return 0.0\n",
    "        else:\n",
    "            return row['compliance']\n",
    "    except:\n",
    "        return row['compliance']\n",
    "\n",
    "def get_full_address(addresses, latlons):\n",
    "    ## 1. split latlons into address w/o zipcode and zipcode\n",
    "    dummies = latlons['address'].str.extractall(r'(?P<address>\\d+ [a-zA-Z ]+, \\w+ [A-Z]{2}) (?P<violation_zip_code>\\d+)')\n",
    "    dummies.index = dummies.index.droplevel(1)\n",
    "    \n",
    "    ## 2. adding to addresses\n",
    "    temp = pd.merge(addresses, dummies, how='left', on='address')\n",
    "    \n",
    "    ## 3. expand address columns to 'address', 'violation_street_number', 'violation_street_name', 'city', 'state'\n",
    "    dummies = temp['address'].str.extractall(r'(?P<address>(?P<violation_street_number>[0-9]{1,6}) (?P<violation_street_name>[a-zA-Z ]+), (?P<city>\\w+) (?P<state>[A-Z]{2}))')\n",
    "    dummies.index = dummies.index.droplevel(1)\n",
    "    \n",
    "    final_address = pd.concat([temp, dummies], axis=1)\n",
    "    final_address = final_address.drop(['address', 'city', 'state'], axis=1)\n",
    "    \n",
    "    return final_address\n",
    "    \n",
    "def transform_features(df):\n",
    "    ## updated later\n",
    "    return df\n",
    "\n",
    "def select_features(df):\n",
    "    ## updated later\n",
    "    return df\n",
    "\n",
    "def unify_models(tr_df, te_df):\n",
    "    ## updated later\n",
    "    return tr_df, te_df\n",
    "\n",
    "def select_model(df):\n",
    "    ## updated later\n",
    "    return model"
   ]
  },
  {
   "cell_type": "markdown",
   "metadata": {},
   "source": [
    "# 1. Examining Data"
   ]
  },
  {
   "cell_type": "code",
   "execution_count": 5,
   "metadata": {
    "scrolled": true
   },
   "outputs": [],
   "source": [
    "train_df = pd.read_csv('train.csv', encoding='Latin 1')\n",
    "test_df = pd.read_csv('test.csv', encoding='Latin 1')"
   ]
  },
  {
   "cell_type": "code",
   "execution_count": 6,
   "metadata": {},
   "outputs": [],
   "source": [
    "addresses = pd.read_csv('addresses.csv')\n",
    "latlons = pd.read_csv('latlons.csv')\n",
    "full_address = get_full_address(addresses, latlons)"
   ]
  },
  {
   "cell_type": "code",
   "execution_count": 7,
   "metadata": {},
   "outputs": [
    {
     "data": {
      "text/html": [
       "<div>\n",
       "<style scoped>\n",
       "    .dataframe tbody tr th:only-of-type {\n",
       "        vertical-align: middle;\n",
       "    }\n",
       "\n",
       "    .dataframe tbody tr th {\n",
       "        vertical-align: top;\n",
       "    }\n",
       "\n",
       "    .dataframe thead th {\n",
       "        text-align: right;\n",
       "    }\n",
       "</style>\n",
       "<table border=\"1\" class=\"dataframe\">\n",
       "  <thead>\n",
       "    <tr style=\"text-align: right;\">\n",
       "      <th></th>\n",
       "      <th>ticket_id</th>\n",
       "      <th>violation_zip_code</th>\n",
       "      <th>violation_street_number</th>\n",
       "      <th>violation_street_name</th>\n",
       "    </tr>\n",
       "  </thead>\n",
       "  <tbody>\n",
       "    <tr>\n",
       "      <th>0</th>\n",
       "      <td>22056</td>\n",
       "      <td>NaN</td>\n",
       "      <td>2900</td>\n",
       "      <td>tyler</td>\n",
       "    </tr>\n",
       "    <tr>\n",
       "      <th>1</th>\n",
       "      <td>27586</td>\n",
       "      <td>NaN</td>\n",
       "      <td>4311</td>\n",
       "      <td>central</td>\n",
       "    </tr>\n",
       "    <tr>\n",
       "      <th>2</th>\n",
       "      <td>22062</td>\n",
       "      <td>NaN</td>\n",
       "      <td>1449</td>\n",
       "      <td>longfellow</td>\n",
       "    </tr>\n",
       "    <tr>\n",
       "      <th>3</th>\n",
       "      <td>22084</td>\n",
       "      <td>NaN</td>\n",
       "      <td>1441</td>\n",
       "      <td>longfellow</td>\n",
       "    </tr>\n",
       "    <tr>\n",
       "      <th>4</th>\n",
       "      <td>22093</td>\n",
       "      <td>NaN</td>\n",
       "      <td>2449</td>\n",
       "      <td>churchill</td>\n",
       "    </tr>\n",
       "  </tbody>\n",
       "</table>\n",
       "</div>"
      ],
      "text/plain": [
       "   ticket_id violation_zip_code violation_street_number violation_street_name\n",
       "0      22056                NaN                    2900                 tyler\n",
       "1      27586                NaN                    4311               central\n",
       "2      22062                NaN                    1449            longfellow\n",
       "3      22084                NaN                    1441            longfellow\n",
       "4      22093                NaN                    2449             churchill"
      ]
     },
     "execution_count": 7,
     "metadata": {},
     "output_type": "execute_result"
    }
   ],
   "source": [
    "full_address.head()"
   ]
  },
  {
   "cell_type": "markdown",
   "metadata": {},
   "source": [
    "## Train Data"
   ]
  },
  {
   "cell_type": "code",
   "execution_count": 8,
   "metadata": {
    "scrolled": true
   },
   "outputs": [
    {
     "data": {
      "text/html": [
       "<div>\n",
       "<style scoped>\n",
       "    .dataframe tbody tr th:only-of-type {\n",
       "        vertical-align: middle;\n",
       "    }\n",
       "\n",
       "    .dataframe tbody tr th {\n",
       "        vertical-align: top;\n",
       "    }\n",
       "\n",
       "    .dataframe thead th {\n",
       "        text-align: right;\n",
       "    }\n",
       "</style>\n",
       "<table border=\"1\" class=\"dataframe\">\n",
       "  <thead>\n",
       "    <tr style=\"text-align: right;\">\n",
       "      <th></th>\n",
       "      <th>ticket_id</th>\n",
       "      <th>agency_name</th>\n",
       "      <th>inspector_name</th>\n",
       "      <th>violator_name</th>\n",
       "      <th>violation_street_number</th>\n",
       "      <th>violation_street_name</th>\n",
       "      <th>violation_zip_code</th>\n",
       "      <th>mailing_address_str_number</th>\n",
       "      <th>mailing_address_str_name</th>\n",
       "      <th>city</th>\n",
       "      <th>...</th>\n",
       "      <th>clean_up_cost</th>\n",
       "      <th>judgment_amount</th>\n",
       "      <th>payment_amount</th>\n",
       "      <th>balance_due</th>\n",
       "      <th>payment_date</th>\n",
       "      <th>payment_status</th>\n",
       "      <th>collection_status</th>\n",
       "      <th>grafitti_status</th>\n",
       "      <th>compliance_detail</th>\n",
       "      <th>compliance</th>\n",
       "    </tr>\n",
       "  </thead>\n",
       "  <tbody>\n",
       "    <tr>\n",
       "      <th>0</th>\n",
       "      <td>22056</td>\n",
       "      <td>Buildings, Safety Engineering &amp; Env Department</td>\n",
       "      <td>Sims, Martinzie</td>\n",
       "      <td>INVESTMENT INC., MIDWEST MORTGAGE</td>\n",
       "      <td>2900.0</td>\n",
       "      <td>TYLER</td>\n",
       "      <td>NaN</td>\n",
       "      <td>3.0</td>\n",
       "      <td>S. WICKER</td>\n",
       "      <td>CHICAGO</td>\n",
       "      <td>...</td>\n",
       "      <td>0.0</td>\n",
       "      <td>305.0</td>\n",
       "      <td>0.0</td>\n",
       "      <td>305.0</td>\n",
       "      <td>NaN</td>\n",
       "      <td>NO PAYMENT APPLIED</td>\n",
       "      <td>NaN</td>\n",
       "      <td>NaN</td>\n",
       "      <td>non-compliant by no payment</td>\n",
       "      <td>0.0</td>\n",
       "    </tr>\n",
       "    <tr>\n",
       "      <th>1</th>\n",
       "      <td>27586</td>\n",
       "      <td>Buildings, Safety Engineering &amp; Env Department</td>\n",
       "      <td>Williams, Darrin</td>\n",
       "      <td>Michigan, Covenant House</td>\n",
       "      <td>4311.0</td>\n",
       "      <td>CENTRAL</td>\n",
       "      <td>NaN</td>\n",
       "      <td>2959.0</td>\n",
       "      <td>Martin Luther King</td>\n",
       "      <td>Detroit</td>\n",
       "      <td>...</td>\n",
       "      <td>0.0</td>\n",
       "      <td>855.0</td>\n",
       "      <td>780.0</td>\n",
       "      <td>75.0</td>\n",
       "      <td>2005-06-02 00:00:00</td>\n",
       "      <td>PAID IN FULL</td>\n",
       "      <td>NaN</td>\n",
       "      <td>NaN</td>\n",
       "      <td>compliant by late payment within 1 month</td>\n",
       "      <td>1.0</td>\n",
       "    </tr>\n",
       "    <tr>\n",
       "      <th>2</th>\n",
       "      <td>22062</td>\n",
       "      <td>Buildings, Safety Engineering &amp; Env Department</td>\n",
       "      <td>Sims, Martinzie</td>\n",
       "      <td>SANDERS, DERRON</td>\n",
       "      <td>1449.0</td>\n",
       "      <td>LONGFELLOW</td>\n",
       "      <td>NaN</td>\n",
       "      <td>23658.0</td>\n",
       "      <td>P.O. BOX</td>\n",
       "      <td>DETROIT</td>\n",
       "      <td>...</td>\n",
       "      <td>0.0</td>\n",
       "      <td>0.0</td>\n",
       "      <td>0.0</td>\n",
       "      <td>0.0</td>\n",
       "      <td>NaN</td>\n",
       "      <td>NO PAYMENT APPLIED</td>\n",
       "      <td>NaN</td>\n",
       "      <td>NaN</td>\n",
       "      <td>not responsible by disposition</td>\n",
       "      <td>NaN</td>\n",
       "    </tr>\n",
       "  </tbody>\n",
       "</table>\n",
       "<p>3 rows × 34 columns</p>\n",
       "</div>"
      ],
      "text/plain": [
       "   ticket_id                                     agency_name  \\\n",
       "0      22056  Buildings, Safety Engineering & Env Department   \n",
       "1      27586  Buildings, Safety Engineering & Env Department   \n",
       "2      22062  Buildings, Safety Engineering & Env Department   \n",
       "\n",
       "     inspector_name                      violator_name  \\\n",
       "0   Sims, Martinzie  INVESTMENT INC., MIDWEST MORTGAGE   \n",
       "1  Williams, Darrin           Michigan, Covenant House   \n",
       "2   Sims, Martinzie                    SANDERS, DERRON   \n",
       "\n",
       "   violation_street_number violation_street_name  violation_zip_code  \\\n",
       "0                   2900.0                 TYLER                 NaN   \n",
       "1                   4311.0               CENTRAL                 NaN   \n",
       "2                   1449.0            LONGFELLOW                 NaN   \n",
       "\n",
       "   mailing_address_str_number mailing_address_str_name     city     ...      \\\n",
       "0                         3.0                S. WICKER  CHICAGO     ...       \n",
       "1                      2959.0       Martin Luther King  Detroit     ...       \n",
       "2                     23658.0                 P.O. BOX  DETROIT     ...       \n",
       "\n",
       "  clean_up_cost judgment_amount payment_amount balance_due  \\\n",
       "0           0.0           305.0            0.0       305.0   \n",
       "1           0.0           855.0          780.0        75.0   \n",
       "2           0.0             0.0            0.0         0.0   \n",
       "\n",
       "          payment_date      payment_status collection_status grafitti_status  \\\n",
       "0                  NaN  NO PAYMENT APPLIED               NaN             NaN   \n",
       "1  2005-06-02 00:00:00        PAID IN FULL               NaN             NaN   \n",
       "2                  NaN  NO PAYMENT APPLIED               NaN             NaN   \n",
       "\n",
       "                          compliance_detail  compliance  \n",
       "0               non-compliant by no payment         0.0  \n",
       "1  compliant by late payment within 1 month         1.0  \n",
       "2            not responsible by disposition         NaN  \n",
       "\n",
       "[3 rows x 34 columns]"
      ]
     },
     "execution_count": 8,
     "metadata": {},
     "output_type": "execute_result"
    }
   ],
   "source": [
    "train_df.head(3)"
   ]
  },
  {
   "cell_type": "code",
   "execution_count": 9,
   "metadata": {},
   "outputs": [
    {
     "name": "stdout",
     "output_type": "stream",
     "text": [
      "(250306, 34)\n",
      "<class 'pandas.core.frame.DataFrame'>\n",
      "RangeIndex: 250306 entries, 0 to 250305\n",
      "Data columns (total 34 columns):\n",
      "ticket_id                     250306 non-null int64\n",
      "agency_name                   250306 non-null object\n",
      "inspector_name                250306 non-null object\n",
      "violator_name                 250272 non-null object\n",
      "violation_street_number       250306 non-null float64\n",
      "violation_street_name         250306 non-null object\n",
      "violation_zip_code            0 non-null float64\n",
      "mailing_address_str_number    246704 non-null float64\n",
      "mailing_address_str_name      250302 non-null object\n",
      "city                          250306 non-null object\n",
      "state                         250213 non-null object\n",
      "zip_code                      250305 non-null object\n",
      "non_us_str_code               3 non-null object\n",
      "country                       250306 non-null object\n",
      "ticket_issued_date            250306 non-null object\n",
      "hearing_date                  237815 non-null object\n",
      "violation_code                250306 non-null object\n",
      "violation_description         250306 non-null object\n",
      "disposition                   250306 non-null object\n",
      "fine_amount                   250305 non-null float64\n",
      "admin_fee                     250306 non-null float64\n",
      "state_fee                     250306 non-null float64\n",
      "late_fee                      250306 non-null float64\n",
      "discount_amount               250306 non-null float64\n",
      "clean_up_cost                 250306 non-null float64\n",
      "judgment_amount               250306 non-null float64\n",
      "payment_amount                250306 non-null float64\n",
      "balance_due                   250306 non-null float64\n",
      "payment_date                  41113 non-null object\n",
      "payment_status                250306 non-null object\n",
      "collection_status             36897 non-null object\n",
      "grafitti_status               1 non-null object\n",
      "compliance_detail             250306 non-null object\n",
      "compliance                    159880 non-null float64\n",
      "dtypes: float64(13), int64(1), object(20)\n",
      "memory usage: 64.9+ MB\n"
     ]
    }
   ],
   "source": [
    "print(train_df.shape)\n",
    "# print(train_df.columns.values)\n",
    "train_df.info()"
   ]
  },
  {
   "cell_type": "markdown",
   "metadata": {},
   "source": [
    "### Missing values?"
   ]
  },
  {
   "cell_type": "code",
   "execution_count": 10,
   "metadata": {
    "scrolled": true
   },
   "outputs": [
    {
     "data": {
      "text/plain": [
       "ticket_id                       0.000000\n",
       "agency_name                     0.000000\n",
       "inspector_name                  0.000000\n",
       "violator_name                   0.013583\n",
       "violation_street_number         0.000000\n",
       "violation_street_name           0.000000\n",
       "violation_zip_code            100.000000\n",
       "mailing_address_str_number      1.439039\n",
       "mailing_address_str_name        0.001598\n",
       "city                            0.000000\n",
       "state                           0.037155\n",
       "zip_code                        0.000400\n",
       "non_us_str_code                99.998801\n",
       "country                         0.000000\n",
       "ticket_issued_date              0.000000\n",
       "hearing_date                    4.990292\n",
       "violation_code                  0.000000\n",
       "violation_description           0.000000\n",
       "disposition                     0.000000\n",
       "fine_amount                     0.000400\n",
       "admin_fee                       0.000000\n",
       "state_fee                       0.000000\n",
       "late_fee                        0.000000\n",
       "discount_amount                 0.000000\n",
       "clean_up_cost                   0.000000\n",
       "judgment_amount                 0.000000\n",
       "payment_amount                  0.000000\n",
       "balance_due                     0.000000\n",
       "payment_date                   83.574904\n",
       "payment_status                  0.000000\n",
       "collection_status              85.259243\n",
       "grafitti_status                99.999600\n",
       "compliance_detail               0.000000\n",
       "compliance                     36.126182\n",
       "dtype: float64"
      ]
     },
     "execution_count": 10,
     "metadata": {},
     "output_type": "execute_result"
    }
   ],
   "source": [
    "train_df.isnull().sum() / train_df.shape[0] * 100"
   ]
  },
  {
   "cell_type": "markdown",
   "metadata": {},
   "source": [
    "## Test Data"
   ]
  },
  {
   "cell_type": "code",
   "execution_count": 11,
   "metadata": {
    "scrolled": true
   },
   "outputs": [
    {
     "data": {
      "text/html": [
       "<div>\n",
       "<style scoped>\n",
       "    .dataframe tbody tr th:only-of-type {\n",
       "        vertical-align: middle;\n",
       "    }\n",
       "\n",
       "    .dataframe tbody tr th {\n",
       "        vertical-align: top;\n",
       "    }\n",
       "\n",
       "    .dataframe thead th {\n",
       "        text-align: right;\n",
       "    }\n",
       "</style>\n",
       "<table border=\"1\" class=\"dataframe\">\n",
       "  <thead>\n",
       "    <tr style=\"text-align: right;\">\n",
       "      <th></th>\n",
       "      <th>ticket_id</th>\n",
       "      <th>agency_name</th>\n",
       "      <th>inspector_name</th>\n",
       "      <th>violator_name</th>\n",
       "      <th>violation_street_number</th>\n",
       "      <th>violation_street_name</th>\n",
       "      <th>violation_zip_code</th>\n",
       "      <th>mailing_address_str_number</th>\n",
       "      <th>mailing_address_str_name</th>\n",
       "      <th>city</th>\n",
       "      <th>...</th>\n",
       "      <th>violation_description</th>\n",
       "      <th>disposition</th>\n",
       "      <th>fine_amount</th>\n",
       "      <th>admin_fee</th>\n",
       "      <th>state_fee</th>\n",
       "      <th>late_fee</th>\n",
       "      <th>discount_amount</th>\n",
       "      <th>clean_up_cost</th>\n",
       "      <th>judgment_amount</th>\n",
       "      <th>grafitti_status</th>\n",
       "    </tr>\n",
       "  </thead>\n",
       "  <tbody>\n",
       "    <tr>\n",
       "      <th>0</th>\n",
       "      <td>284932</td>\n",
       "      <td>Department of Public Works</td>\n",
       "      <td>Granberry, Aisha B</td>\n",
       "      <td>FLUELLEN, JOHN A</td>\n",
       "      <td>10041.0</td>\n",
       "      <td>ROSEBERRY</td>\n",
       "      <td>NaN</td>\n",
       "      <td>141</td>\n",
       "      <td>ROSEBERRY</td>\n",
       "      <td>DETROIT</td>\n",
       "      <td>...</td>\n",
       "      <td>Failure to secure City or Private solid waste ...</td>\n",
       "      <td>Responsible by Default</td>\n",
       "      <td>200.0</td>\n",
       "      <td>20.0</td>\n",
       "      <td>10.0</td>\n",
       "      <td>20.0</td>\n",
       "      <td>0.0</td>\n",
       "      <td>0.0</td>\n",
       "      <td>250.0</td>\n",
       "      <td>NaN</td>\n",
       "    </tr>\n",
       "    <tr>\n",
       "      <th>1</th>\n",
       "      <td>285362</td>\n",
       "      <td>Department of Public Works</td>\n",
       "      <td>Lusk, Gertrina</td>\n",
       "      <td>WHIGHAM, THELMA</td>\n",
       "      <td>18520.0</td>\n",
       "      <td>EVERGREEN</td>\n",
       "      <td>NaN</td>\n",
       "      <td>19136</td>\n",
       "      <td>GLASTONBURY</td>\n",
       "      <td>DETROIT</td>\n",
       "      <td>...</td>\n",
       "      <td>Allowing bulk solid waste to lie or accumulate...</td>\n",
       "      <td>Responsible by Default</td>\n",
       "      <td>1000.0</td>\n",
       "      <td>20.0</td>\n",
       "      <td>10.0</td>\n",
       "      <td>100.0</td>\n",
       "      <td>0.0</td>\n",
       "      <td>0.0</td>\n",
       "      <td>1130.0</td>\n",
       "      <td>NaN</td>\n",
       "    </tr>\n",
       "    <tr>\n",
       "      <th>2</th>\n",
       "      <td>285361</td>\n",
       "      <td>Department of Public Works</td>\n",
       "      <td>Lusk, Gertrina</td>\n",
       "      <td>WHIGHAM, THELMA</td>\n",
       "      <td>18520.0</td>\n",
       "      <td>EVERGREEN</td>\n",
       "      <td>NaN</td>\n",
       "      <td>19136</td>\n",
       "      <td>GLASTONBURY</td>\n",
       "      <td>DETROIT</td>\n",
       "      <td>...</td>\n",
       "      <td>Improper placement of Courville container betw...</td>\n",
       "      <td>Responsible by Default</td>\n",
       "      <td>100.0</td>\n",
       "      <td>20.0</td>\n",
       "      <td>10.0</td>\n",
       "      <td>10.0</td>\n",
       "      <td>0.0</td>\n",
       "      <td>0.0</td>\n",
       "      <td>140.0</td>\n",
       "      <td>NaN</td>\n",
       "    </tr>\n",
       "  </tbody>\n",
       "</table>\n",
       "<p>3 rows × 27 columns</p>\n",
       "</div>"
      ],
      "text/plain": [
       "   ticket_id                 agency_name      inspector_name  \\\n",
       "0     284932  Department of Public Works  Granberry, Aisha B   \n",
       "1     285362  Department of Public Works      Lusk, Gertrina   \n",
       "2     285361  Department of Public Works      Lusk, Gertrina   \n",
       "\n",
       "      violator_name  violation_street_number violation_street_name  \\\n",
       "0  FLUELLEN, JOHN A                  10041.0             ROSEBERRY   \n",
       "1   WHIGHAM, THELMA                  18520.0             EVERGREEN   \n",
       "2   WHIGHAM, THELMA                  18520.0             EVERGREEN   \n",
       "\n",
       "  violation_zip_code mailing_address_str_number mailing_address_str_name  \\\n",
       "0                NaN                        141                ROSEBERRY   \n",
       "1                NaN                      19136              GLASTONBURY   \n",
       "2                NaN                      19136              GLASTONBURY   \n",
       "\n",
       "      city       ...         \\\n",
       "0  DETROIT       ...          \n",
       "1  DETROIT       ...          \n",
       "2  DETROIT       ...          \n",
       "\n",
       "                               violation_description             disposition  \\\n",
       "0  Failure to secure City or Private solid waste ...  Responsible by Default   \n",
       "1  Allowing bulk solid waste to lie or accumulate...  Responsible by Default   \n",
       "2  Improper placement of Courville container betw...  Responsible by Default   \n",
       "\n",
       "   fine_amount admin_fee state_fee late_fee discount_amount clean_up_cost  \\\n",
       "0        200.0      20.0      10.0     20.0             0.0           0.0   \n",
       "1       1000.0      20.0      10.0    100.0             0.0           0.0   \n",
       "2        100.0      20.0      10.0     10.0             0.0           0.0   \n",
       "\n",
       "  judgment_amount  grafitti_status  \n",
       "0           250.0              NaN  \n",
       "1          1130.0              NaN  \n",
       "2           140.0              NaN  \n",
       "\n",
       "[3 rows x 27 columns]"
      ]
     },
     "execution_count": 11,
     "metadata": {},
     "output_type": "execute_result"
    }
   ],
   "source": [
    "test_df.head(3)"
   ]
  },
  {
   "cell_type": "code",
   "execution_count": 12,
   "metadata": {},
   "outputs": [
    {
     "name": "stdout",
     "output_type": "stream",
     "text": [
      "(61001, 27)\n"
     ]
    }
   ],
   "source": [
    "print(test_df.shape)\n",
    "# print(test_df.columns.values)"
   ]
  },
  {
   "cell_type": "markdown",
   "metadata": {},
   "source": [
    "## Setting Features and Target"
   ]
  },
  {
   "cell_type": "code",
   "execution_count": 13,
   "metadata": {},
   "outputs": [],
   "source": [
    "# train_df['hearing_date'].isnull().sum() / train_df.shape[0] * 100"
   ]
  },
  {
   "cell_type": "code",
   "execution_count": 14,
   "metadata": {},
   "outputs": [],
   "source": [
    "# train_df['compliance'].isnull().sum() / train_df.shape[0] * 100"
   ]
  },
  {
   "cell_type": "code",
   "execution_count": 15,
   "metadata": {},
   "outputs": [],
   "source": [
    "# target_null = train_df['compliance'].isna()\n",
    "# df = train_df[target_null]"
   ]
  },
  {
   "cell_type": "code",
   "execution_count": 16,
   "metadata": {},
   "outputs": [],
   "source": [
    "# ## 'PARTIAL PAYMENT APPLIED'\n",
    "# df1 = df[df['payment_status'] == 'PARTIAL PAYMENT APPLIED'][['hearing_date', 'ticket_issued_date', 'payment_date', 'compliance']]"
   ]
  },
  {
   "cell_type": "code",
   "execution_count": 17,
   "metadata": {
    "scrolled": true
   },
   "outputs": [],
   "source": [
    "# df1.isnull().sum()"
   ]
  },
  {
   "cell_type": "code",
   "execution_count": 18,
   "metadata": {},
   "outputs": [],
   "source": [
    "# df1.head(20)"
   ]
  },
  {
   "cell_type": "code",
   "execution_count": 19,
   "metadata": {},
   "outputs": [],
   "source": [
    "# train_df[train_df['payment_status'] == 'PARTIAL PAYMENT APPLIED']['compliance'].value_counts()"
   ]
  },
  {
   "cell_type": "markdown",
   "metadata": {},
   "source": [
    "No problem here - all records are there - **all 'NO'**"
   ]
  },
  {
   "cell_type": "code",
   "execution_count": 20,
   "metadata": {},
   "outputs": [],
   "source": [
    "# ## 'PAID IN FULL'\n",
    "# df2 = df[df['payment_status'] == 'PAID IN FULL'][['hearing_date', 'ticket_issued_date', 'payment_date', 'compliance']]"
   ]
  },
  {
   "cell_type": "code",
   "execution_count": 21,
   "metadata": {
    "scrolled": true
   },
   "outputs": [],
   "source": [
    "# print(len(df2))\n",
    "# df2.isnull().sum() / len(df2) *100"
   ]
  },
  {
   "cell_type": "code",
   "execution_count": 22,
   "metadata": {},
   "outputs": [],
   "source": [
    "# train_df[train_df['payment_status'] == 'PAID IN FULL']['compliance'].value_counts()"
   ]
  },
  {
   "cell_type": "markdown",
   "metadata": {},
   "source": [
    "No problem here"
   ]
  },
  {
   "cell_type": "code",
   "execution_count": 23,
   "metadata": {},
   "outputs": [],
   "source": [
    "# ## 'NO PAYMENT APPLIED'\n",
    "# df3 = df[df['payment_status'] == 'NO PAYMENT APPLIED'][['hearing_date', 'ticket_issued_date', 'payment_date', 'compliance']]"
   ]
  },
  {
   "cell_type": "code",
   "execution_count": 24,
   "metadata": {},
   "outputs": [],
   "source": [
    "# print(len(df3))\n",
    "# df3.isnull().sum() / len(df3) * 100"
   ]
  },
  {
   "cell_type": "markdown",
   "metadata": {},
   "source": [
    "seems like payment status of 'NO PAYMENT APPLIED' are only missing - **these people did NOT complied**"
   ]
  },
  {
   "cell_type": "code",
   "execution_count": 25,
   "metadata": {},
   "outputs": [],
   "source": [
    "# train_df[train_df['payment_status'] == 'NO PAYMENT APPLIED']['compliance'].value_counts()"
   ]
  },
  {
   "cell_type": "markdown",
   "metadata": {},
   "source": [
    "Interestingly some are marked as 'complied'"
   ]
  },
  {
   "cell_type": "code",
   "execution_count": 26,
   "metadata": {},
   "outputs": [],
   "source": [
    "# holder = []\n",
    "# for detail in train_df['disposition'].value_counts().index:\n",
    "#     if train_df[train_df['disposition'] == detail]['compliance'].sum() != 0 :\n",
    "#         print(\"<<\", detail, \">>\")\n",
    "#         print(train_df[train_df['disposition'] == detail]['compliance'].value_counts())\n",
    "#         print(train_df[train_df['disposition'] == detail]['compliance'].unique())\n",
    "#         print()\n",
    "#     else: \n",
    "#         holder.append(detail)\n",
    "\n",
    "# holder"
   ]
  },
  {
   "cell_type": "code",
   "execution_count": 27,
   "metadata": {
    "scrolled": false
   },
   "outputs": [],
   "source": [
    "# for detail in holder:\n",
    "#     print(\"<<\", detail, \">>\")\n",
    "#     print(train_df[train_df['disposition'] == detail]['payment_status'].value_counts())\n",
    "#     print(train_df[train_df['disposition'] == detail]['payment_status'].unique())\n",
    "# #     print(train_df[train_df['disposition'] == detail]['compliance'].unique())\n",
    "#     print()"
   ]
  },
  {
   "cell_type": "code",
   "execution_count": 28,
   "metadata": {},
   "outputs": [],
   "source": [
    "# print(train_df[train_df['disposition'] == detail]['compliance'].iloc[0])\n",
    "# pd.isna(train_df[train_df['disposition'] == detail]['compliance'].iloc[0])"
   ]
  },
  {
   "cell_type": "markdown",
   "metadata": {},
   "source": [
    "- 'payment_status' - 'compliance':\n",
    "    -  1. 'PARTIAL PAYMENT APPLIED' : All \"NO\" (0)\n",
    "    -  2. 'PAID IN FULL': \n",
    "        - 1) YES (1)\n",
    "        - 2) NO (0)\n",
    "        - 3) nan --> convert to 'YES' **iff** 'hearing_date' > 'payment_date'\n",
    "    -  3. 'NO PAYMENT APPLIED':\n",
    "        - 1) YES (1)\n",
    "        - 2) NO (0)\n",
    "        - 3) nan --> convert to 'NO' **iff** 'hearing_date' < 'payment_date'"
   ]
  },
  {
   "cell_type": "code",
   "execution_count": 29,
   "metadata": {},
   "outputs": [],
   "source": [
    "# isna = train_df['compliance'].isna()"
   ]
  },
  {
   "cell_type": "code",
   "execution_count": 30,
   "metadata": {},
   "outputs": [],
   "source": [
    "# ## not paid\n",
    "# (train_df[isna][['hearing_date', 'ticket_issued_date', 'payment_date', 'compliance']].loc[11, 'hearing_date'] >\n",
    "#             train_df[isna][['hearing_date', 'ticket_issued_date', 'payment_date', 'compliance']].loc[11, 'payment_date'])"
   ]
  },
  {
   "cell_type": "code",
   "execution_count": 31,
   "metadata": {},
   "outputs": [],
   "source": [
    "# ## paid\n",
    "# (train_df[isna][['hearing_date', 'ticket_issued_date', 'payment_date', 'compliance']].loc[50, 'hearing_date'] >\n",
    "#             train_df[isna][['hearing_date', 'ticket_issued_date', 'payment_date', 'compliance']].loc[50, 'payment_date'])"
   ]
  },
  {
   "cell_type": "code",
   "execution_count": 32,
   "metadata": {},
   "outputs": [],
   "source": [
    "# ## one missing\n",
    "# try:\n",
    "#     (train_df[isna][['hearing_date', 'ticket_issued_date', 'payment_date', 'compliance']].loc[36, 'hearing_date'] >\n",
    "#             train_df[isna][['hearing_date', 'ticket_issued_date', 'payment_date', 'compliance']].loc[36, 'payment_date'])\n",
    "# except:\n",
    "#     print(\"not comparable\")"
   ]
  },
  {
   "cell_type": "code",
   "execution_count": 33,
   "metadata": {},
   "outputs": [],
   "source": [
    "# temp = train_df['compliance'].map(target_maker)\n",
    "# temp.value_counts()"
   ]
  },
  {
   "cell_type": "code",
   "execution_count": 34,
   "metadata": {},
   "outputs": [],
   "source": [
    "# train_df = train_df.drop(['compliance'], axis=1)\n",
    "# train_df = pd.concat([train_df, temp], axis=1)\n",
    "\n",
    "# train_df['compliance'].value_counts()"
   ]
  },
  {
   "cell_type": "markdown",
   "metadata": {},
   "source": [
    "### Finding 'PAID IN FULL' & 'hearing_date' >= 'payment_date'"
   ]
  },
  {
   "cell_type": "code",
   "execution_count": 35,
   "metadata": {},
   "outputs": [],
   "source": [
    "# isna_paid_idx = train_df[(train_df['compliance'] == -1.0) & (train_df['payment_status'] == 'PAID IN FULL')].index.values"
   ]
  },
  {
   "cell_type": "code",
   "execution_count": 36,
   "metadata": {},
   "outputs": [],
   "source": [
    "# train_df.loc[isna_paid_idx, 'compliance'] = train_df.loc[isna_paid_idx].apply(date_parser_paid, axis=1)"
   ]
  },
  {
   "cell_type": "code",
   "execution_count": 37,
   "metadata": {},
   "outputs": [],
   "source": [
    "# train_df['compliance'].value_counts()"
   ]
  },
  {
   "cell_type": "code",
   "execution_count": 38,
   "metadata": {},
   "outputs": [],
   "source": [
    "# train_df['compliance'].unique()"
   ]
  },
  {
   "cell_type": "code",
   "execution_count": 39,
   "metadata": {},
   "outputs": [],
   "source": [
    "# ## update 'PAID IN FULL' & 'hearing_date' >= 'payment_date'\n",
    "# train_df.loc[isna_paid_idx, 'compliance'] = train_df.loc[isna_paid_idx].apply(date_parser_paid, axis=1)"
   ]
  },
  {
   "cell_type": "markdown",
   "metadata": {},
   "source": [
    "### Finding 'NO PAYMENT APPLIED' & 'hearing_date' < 'payment_date'"
   ]
  },
  {
   "cell_type": "code",
   "execution_count": 40,
   "metadata": {},
   "outputs": [],
   "source": [
    "# isna_no_paid_idx = train_df[(train_df['compliance'] == -1.0) & (train_df['payment_status'] == 'NO PAYMENT APPLIED')].index.values"
   ]
  },
  {
   "cell_type": "code",
   "execution_count": 41,
   "metadata": {},
   "outputs": [],
   "source": [
    "# train_df.loc[isna_no_paid_idx, 'compliance'] = train_df.loc[isna_no_paid_idx].apply(date_parser_not_paid, axis=1)"
   ]
  },
  {
   "cell_type": "code",
   "execution_count": 42,
   "metadata": {},
   "outputs": [],
   "source": [
    "# train_df['compliance'].value_counts()"
   ]
  },
  {
   "cell_type": "code",
   "execution_count": 43,
   "metadata": {},
   "outputs": [],
   "source": [
    "# train_df['compliance'].unique()"
   ]
  },
  {
   "cell_type": "code",
   "execution_count": 44,
   "metadata": {},
   "outputs": [],
   "source": [
    "# ## update 'NO PAYMENT APPLIED' & 'hearing_date' < 'payment_date'\n",
    "# train_df.loc[isna_no_paid_idx, 'compliance'] = train_df.loc[isna_no_paid_idx].apply(date_parser_not_paid, axis=1)"
   ]
  },
  {
   "cell_type": "code",
   "execution_count": 45,
   "metadata": {},
   "outputs": [],
   "source": [
    "# isna_idx = train_df[train_df['compliance'] ==  -1.0].index.values\n",
    "# len(isna_idx)"
   ]
  },
  {
   "cell_type": "code",
   "execution_count": 46,
   "metadata": {},
   "outputs": [],
   "source": [
    "# train_df = train_df.drop(train_df.index[isna_idx])"
   ]
  },
  {
   "cell_type": "code",
   "execution_count": 47,
   "metadata": {},
   "outputs": [],
   "source": [
    "# train_df['compliance'].value_counts()"
   ]
  },
  {
   "cell_type": "markdown",
   "metadata": {},
   "source": [
    "# 2. Feature Engineering\n",
    "- Handle missing values:\n",
    "    - All columns: \n",
    "        - Drop any with more than 5% missing values **for now**\n",
    "    - Text columns: \n",
    "        - Drop any with 1 or more missing vlaues **for now**\n",
    "    - Numerical columns:\n",
    "        - For columns with missing values, fill in with the most common values in that column\n",
    "- Drop columns:\n",
    "    - of no meaningful\n",
    "    - leak data about compliance (target)"
   ]
  },
  {
   "cell_type": "markdown",
   "metadata": {},
   "source": [
    "### 2.1. All columns: Drop any with more than 5% missing values for now"
   ]
  },
  {
   "cell_type": "code",
   "execution_count": 48,
   "metadata": {},
   "outputs": [],
   "source": [
    "# num_missing = train_df.isnull().sum()\n",
    "# drop_missing_cols = num_missing[(num_missing / len(train_df) * 100) > 5.0].index\n",
    "# train_df = train_df.drop(drop_missing_cols, axis=1)\n",
    "# print(train_df.shape)\n",
    "# train_df.head()"
   ]
  },
  {
   "cell_type": "markdown",
   "metadata": {},
   "source": [
    "### 2.2. Text columns: Drop any with 1 or more missing values for now"
   ]
  },
  {
   "cell_type": "code",
   "execution_count": 49,
   "metadata": {},
   "outputs": [],
   "source": [
    "# ## count missing values in each text column\n",
    "# text_mv_counts = train_df.select_dtypes(include=['object']).isnull().sum().sort_values(ascending=False)\n",
    "# # print(text_mv_counts)\n",
    "\n",
    "# ## Filter Series to columns containing *any* missing values\n",
    "# drop_missing_cols = text_mv_counts[text_mv_counts != 0].index\n",
    "# # print(drop_missing_cols)\n",
    "\n",
    "# ## drop columns\n",
    "# train_df = train_df.drop(drop_missing_cols, axis=1)\n",
    "# print(train_df.shape)\n",
    "# train_df.head()"
   ]
  },
  {
   "cell_type": "markdown",
   "metadata": {},
   "source": [
    "### 2.3. Numerical columns: For columns with missing vlaues, fill in with the most common values in that column"
   ]
  },
  {
   "cell_type": "code",
   "execution_count": 50,
   "metadata": {},
   "outputs": [],
   "source": [
    "# ## Count missing values in each numeric columns\n",
    "# num_missing = train_df.select_dtypes(include=['int', 'float']).isnull().sum()\n",
    "# print(num_missing, end='\\n\\n')\n",
    "\n",
    "# fixable_numeric_cols = num_missing[(num_missing < len(train_df)/20) & (num_missing > 0)].sort_values()\n",
    "# print(fixable_numeric_cols)"
   ]
  },
  {
   "cell_type": "code",
   "execution_count": 51,
   "metadata": {},
   "outputs": [],
   "source": [
    "# replacement_values_dict = train_df[fixable_numeric_cols.index].mode().to_dict(orient='records')[0]\n",
    "# replacement_values_dict"
   ]
  },
  {
   "cell_type": "code",
   "execution_count": 52,
   "metadata": {},
   "outputs": [],
   "source": [
    "# ## Filling in missing slots\n",
    "# train_df = train_df.fillna(replacement_values_dict)\n",
    "# print(train_df.shape)\n",
    "# train_df.head(3)"
   ]
  },
  {
   "cell_type": "code",
   "execution_count": 53,
   "metadata": {},
   "outputs": [],
   "source": [
    "# ## Verify that every column has 0 missing values\n",
    "# train_df.isnull().sum().value_counts()"
   ]
  },
  {
   "cell_type": "markdown",
   "metadata": {},
   "source": [
    "### 2.4. Drop columns: of no meaningful + leak data about compliance (target)"
   ]
  },
  {
   "cell_type": "code",
   "execution_count": 54,
   "metadata": {},
   "outputs": [],
   "source": [
    "# train_df['agency_name'].value_counts()"
   ]
  },
  {
   "cell_type": "code",
   "execution_count": 55,
   "metadata": {},
   "outputs": [],
   "source": [
    "# print('compliance')\n",
    "# train_df.groupby('agency_name')['compliance'].apply(lambda group: len(group)-sum(group))"
   ]
  },
  {
   "cell_type": "code",
   "execution_count": 56,
   "metadata": {},
   "outputs": [],
   "source": [
    "# ## Drop columns that leak info about compliance + unnecessary info (redundant)\n",
    "# cols = ['payment_amount', 'balance_due', 'payment_date', 'payment_status', \n",
    "#         'collection_status', 'compliance_detail']\n",
    "# features = [col for col in df.columns if col not in cols]\n",
    "# train_df = train_df[features]"
   ]
  },
  {
   "cell_type": "code",
   "execution_count": 57,
   "metadata": {},
   "outputs": [],
   "source": [
    "# train_df.shape"
   ]
  },
  {
   "cell_type": "markdown",
   "metadata": {},
   "source": [
    "# ** Update Define transform_features( )"
   ]
  },
  {
   "cell_type": "code",
   "execution_count": 58,
   "metadata": {},
   "outputs": [],
   "source": [
    "def transform_features(df):\n",
    "    ## to check if train or test\n",
    "    cols = ['payment_amount', 'balance_due', 'payment_date', 'payment_status', \n",
    "            'collection_status', 'compliance_detail']\n",
    "    flag = True if np.in1d(cols, df.columns.values).sum() else False\n",
    "\n",
    "    ## if train dataset\n",
    "    if flag: \n",
    "        \n",
    "    ## 0. Setting target - update target 'compliance'\n",
    "        temp = df['compliance'].map(target_maker)\n",
    "        df = df.drop(['compliance'], axis=1)\n",
    "        df = pd.concat([df, temp], axis=1)\n",
    "        \n",
    "        isna_paid_idx = df[(df['compliance'] == -1.0) & (df['payment_status'] == 'PAID IN FULL')].index.values\n",
    "        isna_no_paid_idx = df[(df['compliance'] == -1.0) & (df['payment_status'] == 'NO PAYMENT APPLIED')].index.values\n",
    "        \n",
    "        ## update 'PAID IN FULL' & 'hearing_date' >= 'payment_date'\n",
    "        df.loc[isna_paid_idx, 'compliance'] = df.loc[isna_paid_idx].apply(date_parser_paid, axis=1)\n",
    "        ## update 'NO PAYMENT APPLIED' & 'hearing_date' < 'payment_date'\n",
    "        df.loc[isna_no_paid_idx, 'compliance'] = df.loc[isna_no_paid_idx].apply(date_parser_not_paid, axis=1)\n",
    "        \n",
    "        isna_idx = df[df['compliance'] ==  -1.0].index.values\n",
    "        ## drop no target data ('not responsible')\n",
    "        df = df.drop(df.index[isna_idx])\n",
    "        \n",
    "        #########\n",
    "        \"\"\" for train, test both\n",
    "        0) define combining()\n",
    "        \n",
    "        1) get zip_code from latlons -> add 'zip_code'onto 'address.csv'\n",
    "        \n",
    "        2) get data from 'addresses.csv' using join\n",
    "        (add columns by  spllitting \"address\" column)\n",
    "        - mailing_address_str_number      \n",
    "        - mailing_address_str_name        \n",
    "        - city                            \n",
    "        - state          \n",
    "        - zip_code\n",
    "        \"\"\"\n",
    "        ##########\n",
    "        \n",
    "    ## Handling Missing Values\n",
    "    ## 1. All columns: Drop any with more than 5% missing values\n",
    "        num_missing = df.isnull().sum()\n",
    "        drop_missing_cols = num_missing[(num_missing / len(df) * 100) > 5.0].index\n",
    "        try:\n",
    "            df = df.drop(drop_missing_cols, axis=1)\n",
    "        except:\n",
    "            pass\n",
    "\n",
    "    ## 2. Text columns: Drop any with 1 or more missing values\n",
    "        ## count missing values in each text column\n",
    "        text_mv_counts = df.select_dtypes(include=['object']).isnull().sum().sort_values(ascending=False)\n",
    "        ## Filter Series to columns containing *any* missing values\n",
    "        drop_missing_cols = text_mv_counts[text_mv_counts != 0].index\n",
    "        try:\n",
    "            df = df.drop(drop_missing_cols, axis=1)\n",
    "        except:\n",
    "            pass\n",
    "\n",
    "    ## 3. Numerical columns: For columns with missing vlaues, fill in with the most common values in that column\n",
    "        ## Count missing values in each numeric columns\n",
    "        num_missing = df.select_dtypes(include=['int', 'float']).isnull().sum()\n",
    "        fixable_numeric_cols = num_missing[(num_missing < len(df)/20) & (num_missing > 0)].sort_values()\n",
    "        replacement_values_dict = df[fixable_numeric_cols.index].mode().to_dict(orient='records')[0]\n",
    "        df = df.fillna(replacement_values_dict)\n",
    "\n",
    "    ## 4. Drop columns: of no meaningful + leak data about compliance (target)\n",
    "        ## None    \n",
    "\n",
    "        ## Drop columns that leak info about compliance + unnecessary info (redundant)\n",
    "        features = [col for col in df.columns if col not in cols]\n",
    "        df = df[features]\n",
    "    \n",
    "    ## if test dataset        \n",
    "    else: \n",
    "        features = tr_df.columns.drop('compliance').values # must be defined beforehand\n",
    "        df = df[features]\n",
    "    \n",
    "        #########\n",
    "        \"\"\" for train, test both\n",
    "        0) define combining()\n",
    "        \n",
    "        1) get zip_code from latlons -> add 'zip_code'onto 'address.csv'\n",
    "        \n",
    "        2) get data from 'addresses.csv' using join\n",
    "        (add columns by  spllitting \"address\" column)\n",
    "        - mailing_address_str_number      \n",
    "        - mailing_address_str_name        \n",
    "        - city                            \n",
    "        - state          \n",
    "        - zip_code\n",
    "        \"\"\"\n",
    "        ##########\n",
    "        \n",
    "    return df"
   ]
  },
  {
   "cell_type": "code",
   "execution_count": 59,
   "metadata": {},
   "outputs": [],
   "source": [
    "train_df = pd.read_csv('train.csv', encoding='Latin 1')\n",
    "test_df = pd.read_csv('test.csv', encoding='Latin 1')"
   ]
  },
  {
   "cell_type": "code",
   "execution_count": 60,
   "metadata": {},
   "outputs": [
    {
     "data": {
      "text/plain": [
       "ticket_id                       0\n",
       "violation_street_number         0\n",
       "violation_street_name           0\n",
       "violation_zip_code         250306\n",
       "dtype: int64"
      ]
     },
     "execution_count": 60,
     "metadata": {},
     "output_type": "execute_result"
    }
   ],
   "source": [
    "train_df[['ticket_id', 'violation_street_number', 'violation_street_name', 'violation_zip_code']].isnull().sum()"
   ]
  },
  {
   "cell_type": "code",
   "execution_count": 61,
   "metadata": {},
   "outputs": [
    {
     "data": {
      "text/plain": [
       "ticket_id                      0\n",
       "violation_street_number        0\n",
       "violation_street_name          0\n",
       "violation_zip_code         36977\n",
       "dtype: int64"
      ]
     },
     "execution_count": 61,
     "metadata": {},
     "output_type": "execute_result"
    }
   ],
   "source": [
    "test_df[['ticket_id', 'violation_street_number', 'violation_street_name', 'violation_zip_code']].isnull().sum()"
   ]
  },
  {
   "cell_type": "code",
   "execution_count": 62,
   "metadata": {},
   "outputs": [
    {
     "data": {
      "text/plain": [
       "ticket_id                       0\n",
       "violation_zip_code         286127\n",
       "violation_street_number      3322\n",
       "violation_street_name        3322\n",
       "dtype: int64"
      ]
     },
     "execution_count": 62,
     "metadata": {},
     "output_type": "execute_result"
    }
   ],
   "source": [
    "full_address.isnull().sum()"
   ]
  },
  {
   "cell_type": "markdown",
   "metadata": {},
   "source": [
    "It appears 'full_address' is of no use"
   ]
  },
  {
   "cell_type": "code",
   "execution_count": 63,
   "metadata": {},
   "outputs": [],
   "source": [
    "tr_df = transform_features(train_df)\n",
    "te_df = transform_features(test_df)"
   ]
  },
  {
   "cell_type": "code",
   "execution_count": 64,
   "metadata": {},
   "outputs": [
    {
     "data": {
      "text/plain": [
       "((159970, 20), (61001, 19))"
      ]
     },
     "execution_count": 64,
     "metadata": {},
     "output_type": "execute_result"
    }
   ],
   "source": [
    "tr_df.shape, te_df.shape"
   ]
  },
  {
   "cell_type": "code",
   "execution_count": 65,
   "metadata": {},
   "outputs": [
    {
     "data": {
      "text/plain": [
       "ticket_id                     0\n",
       "agency_name                   0\n",
       "inspector_name                0\n",
       "violation_street_number       0\n",
       "violation_street_name         0\n",
       "mailing_address_str_number    0\n",
       "city                          0\n",
       "country                       0\n",
       "ticket_issued_date            0\n",
       "violation_code                0\n",
       "violation_description         0\n",
       "disposition                   0\n",
       "fine_amount                   0\n",
       "admin_fee                     0\n",
       "state_fee                     0\n",
       "late_fee                      0\n",
       "discount_amount               0\n",
       "clean_up_cost                 0\n",
       "judgment_amount               0\n",
       "compliance                    0\n",
       "dtype: int64"
      ]
     },
     "execution_count": 65,
     "metadata": {},
     "output_type": "execute_result"
    }
   ],
   "source": [
    "tr_df.isnull().sum()"
   ]
  },
  {
   "cell_type": "code",
   "execution_count": 66,
   "metadata": {},
   "outputs": [
    {
     "data": {
      "text/plain": [
       "ticket_id                        0\n",
       "agency_name                      0\n",
       "inspector_name                   0\n",
       "violation_street_number          0\n",
       "violation_street_name            0\n",
       "mailing_address_str_number    1014\n",
       "city                             1\n",
       "country                          0\n",
       "ticket_issued_date               0\n",
       "violation_code                   0\n",
       "violation_description            0\n",
       "disposition                      0\n",
       "fine_amount                      0\n",
       "admin_fee                        0\n",
       "state_fee                        0\n",
       "late_fee                         0\n",
       "discount_amount                  0\n",
       "clean_up_cost                    0\n",
       "judgment_amount                  0\n",
       "dtype: int64"
      ]
     },
     "execution_count": 66,
     "metadata": {},
     "output_type": "execute_result"
    }
   ],
   "source": [
    "te_df.isnull().sum()"
   ]
  },
  {
   "cell_type": "markdown",
   "metadata": {},
   "source": [
    "Thoughts: we might want to further remove 'mailing_address_str_number' and 'city'"
   ]
  },
  {
   "cell_type": "markdown",
   "metadata": {},
   "source": [
    "# 3. Feature Selection\n",
    "\n",
    "- Study correlation through heatmap matrix of numerical features in the training data set\n",
    "    - which features corrleate strongly with the target column, 'paid'?\n",
    "    - look for potential collinearlity\n",
    "    - removing features with low variance\n",
    "- Study columns that are **meant** to be categorical\n",
    "    - Which columns are currently numerical but need to be encoded as categorical instead (because the numbers don't have any semantic meaning)?\n",
    "    - If a categorical column has hundreds of unique values (or categories), should we keep it? When we dummy code this column, hundreds of columns will need to be added back to the data frame."
   ]
  },
  {
   "cell_type": "markdown",
   "metadata": {},
   "source": [
    "### 3.1. Study correlation"
   ]
  },
  {
   "cell_type": "markdown",
   "metadata": {},
   "source": [
    "### 3.1.a: remove low correlation with the target & high collinearity features"
   ]
  },
  {
   "cell_type": "code",
   "execution_count": 67,
   "metadata": {},
   "outputs": [
    {
     "data": {
      "text/html": [
       "<div>\n",
       "<style scoped>\n",
       "    .dataframe tbody tr th:only-of-type {\n",
       "        vertical-align: middle;\n",
       "    }\n",
       "\n",
       "    .dataframe tbody tr th {\n",
       "        vertical-align: top;\n",
       "    }\n",
       "\n",
       "    .dataframe thead th {\n",
       "        text-align: right;\n",
       "    }\n",
       "</style>\n",
       "<table border=\"1\" class=\"dataframe\">\n",
       "  <thead>\n",
       "    <tr style=\"text-align: right;\">\n",
       "      <th></th>\n",
       "      <th>ticket_id</th>\n",
       "      <th>violation_street_number</th>\n",
       "      <th>mailing_address_str_number</th>\n",
       "      <th>fine_amount</th>\n",
       "      <th>admin_fee</th>\n",
       "      <th>state_fee</th>\n",
       "      <th>late_fee</th>\n",
       "      <th>discount_amount</th>\n",
       "      <th>clean_up_cost</th>\n",
       "      <th>judgment_amount</th>\n",
       "      <th>compliance</th>\n",
       "    </tr>\n",
       "  </thead>\n",
       "  <tbody>\n",
       "    <tr>\n",
       "      <th>0</th>\n",
       "      <td>22056</td>\n",
       "      <td>2900.0</td>\n",
       "      <td>3.0</td>\n",
       "      <td>250.0</td>\n",
       "      <td>20.0</td>\n",
       "      <td>10.0</td>\n",
       "      <td>25.0</td>\n",
       "      <td>0.0</td>\n",
       "      <td>0.0</td>\n",
       "      <td>305.0</td>\n",
       "      <td>0.0</td>\n",
       "    </tr>\n",
       "    <tr>\n",
       "      <th>1</th>\n",
       "      <td>27586</td>\n",
       "      <td>4311.0</td>\n",
       "      <td>2959.0</td>\n",
       "      <td>750.0</td>\n",
       "      <td>20.0</td>\n",
       "      <td>10.0</td>\n",
       "      <td>75.0</td>\n",
       "      <td>0.0</td>\n",
       "      <td>0.0</td>\n",
       "      <td>855.0</td>\n",
       "      <td>1.0</td>\n",
       "    </tr>\n",
       "    <tr>\n",
       "      <th>5</th>\n",
       "      <td>22046</td>\n",
       "      <td>6478.0</td>\n",
       "      <td>2755.0</td>\n",
       "      <td>250.0</td>\n",
       "      <td>20.0</td>\n",
       "      <td>10.0</td>\n",
       "      <td>25.0</td>\n",
       "      <td>0.0</td>\n",
       "      <td>0.0</td>\n",
       "      <td>305.0</td>\n",
       "      <td>0.0</td>\n",
       "    </tr>\n",
       "    <tr>\n",
       "      <th>6</th>\n",
       "      <td>18738</td>\n",
       "      <td>8027.0</td>\n",
       "      <td>476.0</td>\n",
       "      <td>750.0</td>\n",
       "      <td>20.0</td>\n",
       "      <td>10.0</td>\n",
       "      <td>75.0</td>\n",
       "      <td>0.0</td>\n",
       "      <td>0.0</td>\n",
       "      <td>855.0</td>\n",
       "      <td>0.0</td>\n",
       "    </tr>\n",
       "    <tr>\n",
       "      <th>7</th>\n",
       "      <td>18735</td>\n",
       "      <td>8228.0</td>\n",
       "      <td>8228.0</td>\n",
       "      <td>100.0</td>\n",
       "      <td>20.0</td>\n",
       "      <td>10.0</td>\n",
       "      <td>10.0</td>\n",
       "      <td>0.0</td>\n",
       "      <td>0.0</td>\n",
       "      <td>140.0</td>\n",
       "      <td>0.0</td>\n",
       "    </tr>\n",
       "  </tbody>\n",
       "</table>\n",
       "</div>"
      ],
      "text/plain": [
       "   ticket_id  violation_street_number  mailing_address_str_number  \\\n",
       "0      22056                   2900.0                         3.0   \n",
       "1      27586                   4311.0                      2959.0   \n",
       "5      22046                   6478.0                      2755.0   \n",
       "6      18738                   8027.0                       476.0   \n",
       "7      18735                   8228.0                      8228.0   \n",
       "\n",
       "   fine_amount  admin_fee  state_fee  late_fee  discount_amount  \\\n",
       "0        250.0       20.0       10.0      25.0              0.0   \n",
       "1        750.0       20.0       10.0      75.0              0.0   \n",
       "5        250.0       20.0       10.0      25.0              0.0   \n",
       "6        750.0       20.0       10.0      75.0              0.0   \n",
       "7        100.0       20.0       10.0      10.0              0.0   \n",
       "\n",
       "   clean_up_cost  judgment_amount  compliance  \n",
       "0            0.0            305.0         0.0  \n",
       "1            0.0            855.0         1.0  \n",
       "5            0.0            305.0         0.0  \n",
       "6            0.0            855.0         0.0  \n",
       "7            0.0            140.0         0.0  "
      ]
     },
     "execution_count": 67,
     "metadata": {},
     "output_type": "execute_result"
    }
   ],
   "source": [
    "## Only numerical features\n",
    "numerical_df = tr_df.select_dtypes(include=['int', 'float'])\n",
    "\n",
    "numerical_df.head()"
   ]
  },
  {
   "cell_type": "code",
   "execution_count": 68,
   "metadata": {},
   "outputs": [
    {
     "data": {
      "text/plain": [
       "violation_street_number       0.002513\n",
       "mailing_address_str_number    0.009473\n",
       "ticket_id                     0.027612\n",
       "fine_amount                   0.048924\n",
       "judgment_amount               0.053580\n",
       "admin_fee                     0.084512\n",
       "state_fee                     0.084512\n",
       "late_fee                      0.085742\n",
       "discount_amount               0.155423\n",
       "compliance                    1.000000\n",
       "clean_up_cost                      NaN\n",
       "Name: compliance, dtype: float64"
      ]
     },
     "execution_count": 68,
     "metadata": {},
     "output_type": "execute_result"
    }
   ],
   "source": [
    "## We want correlation with the target, 'compliance'\n",
    "abs_corr_coeffs = numerical_df.corr()['compliance'].abs().sort_values()\n",
    "\n",
    "abs_corr_coeffs"
   ]
  },
  {
   "cell_type": "code",
   "execution_count": 69,
   "metadata": {},
   "outputs": [
    {
     "data": {
      "text/plain": [
       "ticket_id          0.027612\n",
       "fine_amount        0.048924\n",
       "judgment_amount    0.053580\n",
       "admin_fee          0.084512\n",
       "state_fee          0.084512\n",
       "late_fee           0.085742\n",
       "discount_amount    0.155423\n",
       "compliance         1.000000\n",
       "Name: compliance, dtype: float64"
      ]
     },
     "execution_count": 69,
     "metadata": {},
     "output_type": "execute_result"
    }
   ],
   "source": [
    "## Let's only keep columns with a stronger correlation with 'compliance', that is, of which corr. coeff is larger than 0.01\n",
    "strong_corrs = abs_corr_coeffs[abs_corr_coeffs > .01]\n",
    "\n",
    "strong_corrs"
   ]
  },
  {
   "cell_type": "code",
   "execution_count": 70,
   "metadata": {},
   "outputs": [],
   "source": [
    "## Drop columns with less than 0.01 correlation with SalePrice\n",
    "tr_df = tr_df.drop(abs_corr_coeffs[abs_corr_coeffs < 0.01].index, axis=1)"
   ]
  },
  {
   "cell_type": "code",
   "execution_count": 71,
   "metadata": {},
   "outputs": [
    {
     "name": "stdout",
     "output_type": "stream",
     "text": [
      "(159970, 18)\n"
     ]
    },
    {
     "data": {
      "text/html": [
       "<div>\n",
       "<style scoped>\n",
       "    .dataframe tbody tr th:only-of-type {\n",
       "        vertical-align: middle;\n",
       "    }\n",
       "\n",
       "    .dataframe tbody tr th {\n",
       "        vertical-align: top;\n",
       "    }\n",
       "\n",
       "    .dataframe thead th {\n",
       "        text-align: right;\n",
       "    }\n",
       "</style>\n",
       "<table border=\"1\" class=\"dataframe\">\n",
       "  <thead>\n",
       "    <tr style=\"text-align: right;\">\n",
       "      <th></th>\n",
       "      <th>ticket_id</th>\n",
       "      <th>agency_name</th>\n",
       "      <th>inspector_name</th>\n",
       "      <th>violation_street_name</th>\n",
       "      <th>city</th>\n",
       "      <th>country</th>\n",
       "      <th>ticket_issued_date</th>\n",
       "      <th>violation_code</th>\n",
       "      <th>violation_description</th>\n",
       "      <th>disposition</th>\n",
       "      <th>fine_amount</th>\n",
       "      <th>admin_fee</th>\n",
       "      <th>state_fee</th>\n",
       "      <th>late_fee</th>\n",
       "      <th>discount_amount</th>\n",
       "      <th>clean_up_cost</th>\n",
       "      <th>judgment_amount</th>\n",
       "      <th>compliance</th>\n",
       "    </tr>\n",
       "  </thead>\n",
       "  <tbody>\n",
       "    <tr>\n",
       "      <th>0</th>\n",
       "      <td>22056</td>\n",
       "      <td>Buildings, Safety Engineering &amp; Env Department</td>\n",
       "      <td>Sims, Martinzie</td>\n",
       "      <td>TYLER</td>\n",
       "      <td>CHICAGO</td>\n",
       "      <td>USA</td>\n",
       "      <td>2004-03-16 11:40:00</td>\n",
       "      <td>9-1-36(a)</td>\n",
       "      <td>Failure of owner to obtain certificate of comp...</td>\n",
       "      <td>Responsible by Default</td>\n",
       "      <td>250.0</td>\n",
       "      <td>20.0</td>\n",
       "      <td>10.0</td>\n",
       "      <td>25.0</td>\n",
       "      <td>0.0</td>\n",
       "      <td>0.0</td>\n",
       "      <td>305.0</td>\n",
       "      <td>0.0</td>\n",
       "    </tr>\n",
       "  </tbody>\n",
       "</table>\n",
       "</div>"
      ],
      "text/plain": [
       "   ticket_id                                     agency_name   inspector_name  \\\n",
       "0      22056  Buildings, Safety Engineering & Env Department  Sims, Martinzie   \n",
       "\n",
       "  violation_street_name     city country   ticket_issued_date violation_code  \\\n",
       "0                 TYLER  CHICAGO     USA  2004-03-16 11:40:00      9-1-36(a)   \n",
       "\n",
       "                               violation_description             disposition  \\\n",
       "0  Failure of owner to obtain certificate of comp...  Responsible by Default   \n",
       "\n",
       "   fine_amount  admin_fee  state_fee  late_fee  discount_amount  \\\n",
       "0        250.0       20.0       10.0      25.0              0.0   \n",
       "\n",
       "   clean_up_cost  judgment_amount  compliance  \n",
       "0            0.0            305.0         0.0  "
      ]
     },
     "execution_count": 71,
     "metadata": {},
     "output_type": "execute_result"
    }
   ],
   "source": [
    "print(tr_df.shape)\n",
    "tr_df.head(1)"
   ]
  },
  {
   "cell_type": "code",
   "execution_count": 72,
   "metadata": {},
   "outputs": [
    {
     "name": "stdout",
     "output_type": "stream",
     "text": [
      "High collinearity\n",
      "fine_amount : ['judgment_amount', 'late_fee']\n",
      "judgment_amount : ['fine_amount', 'late_fee']\n",
      "admin_fee : ['state_fee']\n",
      "state_fee : ['admin_fee']\n",
      "late_fee : ['fine_amount', 'judgment_amount']\n"
     ]
    }
   ],
   "source": [
    "import seaborn as sns\n",
    "corrmat = tr_df[strong_corrs.index].corr()\n",
    "\n",
    "cols = corrmat.index.drop(['compliance', 'ticket_id']).values\n",
    "\n",
    "print(\"High collinearity\")\n",
    "for col in cols:\n",
    "    l = corrmat[corrmat[corrmat >.7][col].notnull()][corrmat.index.values[0]].index.tolist()\n",
    "    l.remove(col)\n",
    "    if (len(l) != 0) and ('SalePrice' not in l):\n",
    "        print(col, \":\", l)"
   ]
  },
  {
   "cell_type": "code",
   "execution_count": 73,
   "metadata": {},
   "outputs": [
    {
     "data": {
      "image/png": "[encoded data removed]",
      "text/plain": [
       "<Figure size 432x360 with 2 Axes>"
      ]
     },
     "metadata": {},
     "output_type": "display_data"
    },
    {
     "data": {
      "text/html": [
       "<div>\n",
       "<style scoped>\n",
       "    .dataframe tbody tr th:only-of-type {\n",
       "        vertical-align: middle;\n",
       "    }\n",
       "\n",
       "    .dataframe tbody tr th {\n",
       "        vertical-align: top;\n",
       "    }\n",
       "\n",
       "    .dataframe thead th {\n",
       "        text-align: right;\n",
       "    }\n",
       "</style>\n",
       "<table border=\"1\" class=\"dataframe\">\n",
       "  <thead>\n",
       "    <tr style=\"text-align: right;\">\n",
       "      <th></th>\n",
       "      <th>ticket_id</th>\n",
       "      <th>fine_amount</th>\n",
       "      <th>judgment_amount</th>\n",
       "      <th>admin_fee</th>\n",
       "      <th>state_fee</th>\n",
       "      <th>late_fee</th>\n",
       "      <th>discount_amount</th>\n",
       "      <th>compliance</th>\n",
       "    </tr>\n",
       "  </thead>\n",
       "  <tbody>\n",
       "    <tr>\n",
       "      <th>ticket_id</th>\n",
       "      <td>1.000000</td>\n",
       "      <td>-0.001425</td>\n",
       "      <td>-0.000534</td>\n",
       "      <td>0.017154</td>\n",
       "      <td>0.017154</td>\n",
       "      <td>0.006978</td>\n",
       "      <td>-0.023564</td>\n",
       "      <td>-0.027612</td>\n",
       "    </tr>\n",
       "    <tr>\n",
       "      <th>fine_amount</th>\n",
       "      <td>-0.001425</td>\n",
       "      <td>1.000000</td>\n",
       "      <td>0.999591</td>\n",
       "      <td>-0.000289</td>\n",
       "      <td>-0.000289</td>\n",
       "      <td>0.986512</td>\n",
       "      <td>0.039486</td>\n",
       "      <td>-0.048924</td>\n",
       "    </tr>\n",
       "    <tr>\n",
       "      <th>judgment_amount</th>\n",
       "      <td>-0.000534</td>\n",
       "      <td>0.999591</td>\n",
       "      <td>1.000000</td>\n",
       "      <td>0.013436</td>\n",
       "      <td>0.013436</td>\n",
       "      <td>0.989071</td>\n",
       "      <td>0.033880</td>\n",
       "      <td>-0.053580</td>\n",
       "    </tr>\n",
       "    <tr>\n",
       "      <th>admin_fee</th>\n",
       "      <td>0.017154</td>\n",
       "      <td>-0.000289</td>\n",
       "      <td>0.013436</td>\n",
       "      <td>1.000000</td>\n",
       "      <td>1.000000</td>\n",
       "      <td>0.011791</td>\n",
       "      <td>0.001083</td>\n",
       "      <td>-0.084512</td>\n",
       "    </tr>\n",
       "    <tr>\n",
       "      <th>state_fee</th>\n",
       "      <td>0.017154</td>\n",
       "      <td>-0.000289</td>\n",
       "      <td>0.013436</td>\n",
       "      <td>1.000000</td>\n",
       "      <td>1.000000</td>\n",
       "      <td>0.011791</td>\n",
       "      <td>0.001083</td>\n",
       "      <td>-0.084512</td>\n",
       "    </tr>\n",
       "    <tr>\n",
       "      <th>late_fee</th>\n",
       "      <td>0.006978</td>\n",
       "      <td>0.986512</td>\n",
       "      <td>0.989071</td>\n",
       "      <td>0.011791</td>\n",
       "      <td>0.011791</td>\n",
       "      <td>1.000000</td>\n",
       "      <td>-0.022692</td>\n",
       "      <td>-0.085742</td>\n",
       "    </tr>\n",
       "    <tr>\n",
       "      <th>discount_amount</th>\n",
       "      <td>-0.023564</td>\n",
       "      <td>0.039486</td>\n",
       "      <td>0.033880</td>\n",
       "      <td>0.001083</td>\n",
       "      <td>0.001083</td>\n",
       "      <td>-0.022692</td>\n",
       "      <td>1.000000</td>\n",
       "      <td>0.155423</td>\n",
       "    </tr>\n",
       "    <tr>\n",
       "      <th>compliance</th>\n",
       "      <td>-0.027612</td>\n",
       "      <td>-0.048924</td>\n",
       "      <td>-0.053580</td>\n",
       "      <td>-0.084512</td>\n",
       "      <td>-0.084512</td>\n",
       "      <td>-0.085742</td>\n",
       "      <td>0.155423</td>\n",
       "      <td>1.000000</td>\n",
       "    </tr>\n",
       "  </tbody>\n",
       "</table>\n",
       "</div>"
      ],
      "text/plain": [
       "                 ticket_id  fine_amount  judgment_amount  admin_fee  \\\n",
       "ticket_id         1.000000    -0.001425        -0.000534   0.017154   \n",
       "fine_amount      -0.001425     1.000000         0.999591  -0.000289   \n",
       "judgment_amount  -0.000534     0.999591         1.000000   0.013436   \n",
       "admin_fee         0.017154    -0.000289         0.013436   1.000000   \n",
       "state_fee         0.017154    -0.000289         0.013436   1.000000   \n",
       "late_fee          0.006978     0.986512         0.989071   0.011791   \n",
       "discount_amount  -0.023564     0.039486         0.033880   0.001083   \n",
       "compliance       -0.027612    -0.048924        -0.053580  -0.084512   \n",
       "\n",
       "                 state_fee  late_fee  discount_amount  compliance  \n",
       "ticket_id         0.017154  0.006978        -0.023564   -0.027612  \n",
       "fine_amount      -0.000289  0.986512         0.039486   -0.048924  \n",
       "judgment_amount   0.013436  0.989071         0.033880   -0.053580  \n",
       "admin_fee         1.000000  0.011791         0.001083   -0.084512  \n",
       "state_fee         1.000000  0.011791         0.001083   -0.084512  \n",
       "late_fee          0.011791  1.000000        -0.022692   -0.085742  \n",
       "discount_amount   0.001083 -0.022692         1.000000    0.155423  \n",
       "compliance       -0.084512 -0.085742         0.155423    1.000000  "
      ]
     },
     "execution_count": 73,
     "metadata": {},
     "output_type": "execute_result"
    }
   ],
   "source": [
    "plt.figure(figsize=(6,5))\n",
    "sns.heatmap(corrmat)\n",
    "plt.show()\n",
    "\n",
    "corrmat"
   ]
  },
  {
   "cell_type": "markdown",
   "metadata": {},
   "source": [
    "- Fllowing pairs of columns are strongly correlated:\n",
    "    1. 'fine_amount' & 'judgment_amount' & 'late_fee'\n",
    "    2. 'admin_fee' & 'state_fee'"
   ]
  },
  {
   "cell_type": "code",
   "execution_count": 74,
   "metadata": {},
   "outputs": [
    {
     "data": {
      "text/plain": [
       "Index(['ticket_id', 'state_fee', 'late_fee', 'discount_amount', 'compliance'], dtype='object')"
      ]
     },
     "execution_count": 74,
     "metadata": {},
     "output_type": "execute_result"
    }
   ],
   "source": [
    "## Drop highly correlated columns (don't need all of them)\n",
    "final_corr_cols = strong_corrs.drop(['fine_amount', 'judgment_amount', 'admin_fee']).index\n",
    "\n",
    "final_corr_cols"
   ]
  },
  {
   "cell_type": "code",
   "execution_count": 75,
   "metadata": {},
   "outputs": [
    {
     "name": "stdout",
     "output_type": "stream",
     "text": [
      "(159970, 15)\n"
     ]
    },
    {
     "data": {
      "text/html": [
       "<div>\n",
       "<style scoped>\n",
       "    .dataframe tbody tr th:only-of-type {\n",
       "        vertical-align: middle;\n",
       "    }\n",
       "\n",
       "    .dataframe tbody tr th {\n",
       "        vertical-align: top;\n",
       "    }\n",
       "\n",
       "    .dataframe thead th {\n",
       "        text-align: right;\n",
       "    }\n",
       "</style>\n",
       "<table border=\"1\" class=\"dataframe\">\n",
       "  <thead>\n",
       "    <tr style=\"text-align: right;\">\n",
       "      <th></th>\n",
       "      <th>ticket_id</th>\n",
       "      <th>agency_name</th>\n",
       "      <th>inspector_name</th>\n",
       "      <th>violation_street_name</th>\n",
       "      <th>city</th>\n",
       "      <th>country</th>\n",
       "      <th>ticket_issued_date</th>\n",
       "      <th>violation_code</th>\n",
       "      <th>violation_description</th>\n",
       "      <th>disposition</th>\n",
       "      <th>state_fee</th>\n",
       "      <th>late_fee</th>\n",
       "      <th>discount_amount</th>\n",
       "      <th>clean_up_cost</th>\n",
       "      <th>compliance</th>\n",
       "    </tr>\n",
       "  </thead>\n",
       "  <tbody>\n",
       "    <tr>\n",
       "      <th>0</th>\n",
       "      <td>22056</td>\n",
       "      <td>Buildings, Safety Engineering &amp; Env Department</td>\n",
       "      <td>Sims, Martinzie</td>\n",
       "      <td>TYLER</td>\n",
       "      <td>CHICAGO</td>\n",
       "      <td>USA</td>\n",
       "      <td>2004-03-16 11:40:00</td>\n",
       "      <td>9-1-36(a)</td>\n",
       "      <td>Failure of owner to obtain certificate of comp...</td>\n",
       "      <td>Responsible by Default</td>\n",
       "      <td>10.0</td>\n",
       "      <td>25.0</td>\n",
       "      <td>0.0</td>\n",
       "      <td>0.0</td>\n",
       "      <td>0.0</td>\n",
       "    </tr>\n",
       "    <tr>\n",
       "      <th>1</th>\n",
       "      <td>27586</td>\n",
       "      <td>Buildings, Safety Engineering &amp; Env Department</td>\n",
       "      <td>Williams, Darrin</td>\n",
       "      <td>CENTRAL</td>\n",
       "      <td>Detroit</td>\n",
       "      <td>USA</td>\n",
       "      <td>2004-04-23 12:30:00</td>\n",
       "      <td>61-63.0600</td>\n",
       "      <td>Failed To Secure Permit For Lawful Use Of Buil...</td>\n",
       "      <td>Responsible by Determination</td>\n",
       "      <td>10.0</td>\n",
       "      <td>75.0</td>\n",
       "      <td>0.0</td>\n",
       "      <td>0.0</td>\n",
       "      <td>1.0</td>\n",
       "    </tr>\n",
       "  </tbody>\n",
       "</table>\n",
       "</div>"
      ],
      "text/plain": [
       "   ticket_id                                     agency_name  \\\n",
       "0      22056  Buildings, Safety Engineering & Env Department   \n",
       "1      27586  Buildings, Safety Engineering & Env Department   \n",
       "\n",
       "     inspector_name violation_street_name     city country  \\\n",
       "0   Sims, Martinzie                 TYLER  CHICAGO     USA   \n",
       "1  Williams, Darrin               CENTRAL  Detroit     USA   \n",
       "\n",
       "    ticket_issued_date violation_code  \\\n",
       "0  2004-03-16 11:40:00      9-1-36(a)   \n",
       "1  2004-04-23 12:30:00     61-63.0600   \n",
       "\n",
       "                               violation_description  \\\n",
       "0  Failure of owner to obtain certificate of comp...   \n",
       "1  Failed To Secure Permit For Lawful Use Of Buil...   \n",
       "\n",
       "                    disposition  state_fee  late_fee  discount_amount  \\\n",
       "0        Responsible by Default       10.0      25.0              0.0   \n",
       "1  Responsible by Determination       10.0      75.0              0.0   \n",
       "\n",
       "   clean_up_cost  compliance  \n",
       "0            0.0         0.0  \n",
       "1            0.0         1.0  "
      ]
     },
     "execution_count": 75,
     "metadata": {},
     "output_type": "execute_result"
    }
   ],
   "source": [
    "tr_df = tr_df.drop(['fine_amount', 'judgment_amount', 'admin_fee'], axis=1)\n",
    "\n",
    "print(tr_df.shape)\n",
    "tr_df.head(2)"
   ]
  },
  {
   "cell_type": "markdown",
   "metadata": {},
   "source": [
    "### 3.1.b: removing features with low variance"
   ]
  },
  {
   "cell_type": "code",
   "execution_count": 76,
   "metadata": {},
   "outputs": [
    {
     "data": {
      "text/plain": [
       "discount_amount    0.000150\n",
       "state_fee          0.000562\n",
       "late_fee           0.004580\n",
       "compliance         0.067720\n",
       "ticket_id          0.075683\n",
       "dtype: float64"
      ]
     },
     "execution_count": 76,
     "metadata": {},
     "output_type": "execute_result"
    }
   ],
   "source": [
    "## Check variance of numerical columns\n",
    "unit_train = (tr_df[final_corr_cols] - tr_df[final_corr_cols].min()) /\\\n",
    "                        (tr_df[final_corr_cols].max() - tr_df[final_corr_cols].min())\n",
    "sorted_vars = unit_train.var().sort_values()\n",
    "\n",
    "sorted_vars"
   ]
  },
  {
   "cell_type": "code",
   "execution_count": 77,
   "metadata": {},
   "outputs": [
    {
     "name": "stdout",
     "output_type": "stream",
     "text": [
      "(159970, 15)\n"
     ]
    },
    {
     "data": {
      "text/html": [
       "<div>\n",
       "<style scoped>\n",
       "    .dataframe tbody tr th:only-of-type {\n",
       "        vertical-align: middle;\n",
       "    }\n",
       "\n",
       "    .dataframe tbody tr th {\n",
       "        vertical-align: top;\n",
       "    }\n",
       "\n",
       "    .dataframe thead th {\n",
       "        text-align: right;\n",
       "    }\n",
       "</style>\n",
       "<table border=\"1\" class=\"dataframe\">\n",
       "  <thead>\n",
       "    <tr style=\"text-align: right;\">\n",
       "      <th></th>\n",
       "      <th>ticket_id</th>\n",
       "      <th>agency_name</th>\n",
       "      <th>inspector_name</th>\n",
       "      <th>violation_street_name</th>\n",
       "      <th>city</th>\n",
       "      <th>country</th>\n",
       "      <th>ticket_issued_date</th>\n",
       "      <th>violation_code</th>\n",
       "      <th>violation_description</th>\n",
       "      <th>disposition</th>\n",
       "      <th>state_fee</th>\n",
       "      <th>late_fee</th>\n",
       "      <th>discount_amount</th>\n",
       "      <th>clean_up_cost</th>\n",
       "      <th>compliance</th>\n",
       "    </tr>\n",
       "  </thead>\n",
       "  <tbody>\n",
       "    <tr>\n",
       "      <th>0</th>\n",
       "      <td>22056</td>\n",
       "      <td>Buildings, Safety Engineering &amp; Env Department</td>\n",
       "      <td>Sims, Martinzie</td>\n",
       "      <td>TYLER</td>\n",
       "      <td>CHICAGO</td>\n",
       "      <td>USA</td>\n",
       "      <td>2004-03-16 11:40:00</td>\n",
       "      <td>9-1-36(a)</td>\n",
       "      <td>Failure of owner to obtain certificate of comp...</td>\n",
       "      <td>Responsible by Default</td>\n",
       "      <td>10.0</td>\n",
       "      <td>25.0</td>\n",
       "      <td>0.0</td>\n",
       "      <td>0.0</td>\n",
       "      <td>0.0</td>\n",
       "    </tr>\n",
       "    <tr>\n",
       "      <th>1</th>\n",
       "      <td>27586</td>\n",
       "      <td>Buildings, Safety Engineering &amp; Env Department</td>\n",
       "      <td>Williams, Darrin</td>\n",
       "      <td>CENTRAL</td>\n",
       "      <td>Detroit</td>\n",
       "      <td>USA</td>\n",
       "      <td>2004-04-23 12:30:00</td>\n",
       "      <td>61-63.0600</td>\n",
       "      <td>Failed To Secure Permit For Lawful Use Of Buil...</td>\n",
       "      <td>Responsible by Determination</td>\n",
       "      <td>10.0</td>\n",
       "      <td>75.0</td>\n",
       "      <td>0.0</td>\n",
       "      <td>0.0</td>\n",
       "      <td>1.0</td>\n",
       "    </tr>\n",
       "  </tbody>\n",
       "</table>\n",
       "</div>"
      ],
      "text/plain": [
       "   ticket_id                                     agency_name  \\\n",
       "0      22056  Buildings, Safety Engineering & Env Department   \n",
       "1      27586  Buildings, Safety Engineering & Env Department   \n",
       "\n",
       "     inspector_name violation_street_name     city country  \\\n",
       "0   Sims, Martinzie                 TYLER  CHICAGO     USA   \n",
       "1  Williams, Darrin               CENTRAL  Detroit     USA   \n",
       "\n",
       "    ticket_issued_date violation_code  \\\n",
       "0  2004-03-16 11:40:00      9-1-36(a)   \n",
       "1  2004-04-23 12:30:00     61-63.0600   \n",
       "\n",
       "                               violation_description  \\\n",
       "0  Failure of owner to obtain certificate of comp...   \n",
       "1  Failed To Secure Permit For Lawful Use Of Buil...   \n",
       "\n",
       "                    disposition  state_fee  late_fee  discount_amount  \\\n",
       "0        Responsible by Default       10.0      25.0              0.0   \n",
       "1  Responsible by Determination       10.0      75.0              0.0   \n",
       "\n",
       "   clean_up_cost  compliance  \n",
       "0            0.0         0.0  \n",
       "1            0.0         1.0  "
      ]
     },
     "execution_count": 77,
     "metadata": {},
     "output_type": "execute_result"
    }
   ],
   "source": [
    "## decide which columns need dropping\n",
    "drop_cols = sorted_vars[sorted_vars < .0001].index\n",
    "final_corr_cols = final_corr_cols.drop(drop_cols) # meaningful numerical column names\n",
    "tr_df = tr_df.drop(drop_cols, axis=1)\n",
    "\n",
    "print(tr_df.shape)\n",
    "tr_df.head(2)"
   ]
  },
  {
   "cell_type": "markdown",
   "metadata": {},
   "source": [
    "### 3.2. Study Columns that are meant to be categorical\n",
    "   - Which categorical columns should we keep?"
   ]
  },
  {
   "cell_type": "code",
   "execution_count": 78,
   "metadata": {},
   "outputs": [
    {
     "data": {
      "text/plain": [
       "['agency_name',\n",
       " 'inspector_name',\n",
       " 'violation_street_name',\n",
       " 'city',\n",
       " 'country',\n",
       " 'ticket_issued_date',\n",
       " 'violation_code',\n",
       " 'violation_description',\n",
       " 'disposition']"
      ]
     },
     "execution_count": 78,
     "metadata": {},
     "output_type": "execute_result"
    }
   ],
   "source": [
    "nominal_features = tr_df.select_dtypes(include=['object']).columns.tolist()\n",
    "nominal_features"
   ]
  },
  {
   "cell_type": "code",
   "execution_count": 79,
   "metadata": {},
   "outputs": [
    {
     "name": "stdout",
     "output_type": "stream",
     "text": [
      "agency_name                  5\n",
      "country                      5\n",
      "disposition                  8\n",
      "inspector_name             160\n",
      "violation_code             189\n",
      "violation_description      207\n",
      "violation_street_name     1716\n",
      "city                      4097\n",
      "ticket_issued_date       68121\n",
      "dtype: int64\n",
      "(159970, 9)\n"
     ]
    },
    {
     "data": {
      "text/html": [
       "<div>\n",
       "<style scoped>\n",
       "    .dataframe tbody tr th:only-of-type {\n",
       "        vertical-align: middle;\n",
       "    }\n",
       "\n",
       "    .dataframe tbody tr th {\n",
       "        vertical-align: top;\n",
       "    }\n",
       "\n",
       "    .dataframe thead th {\n",
       "        text-align: right;\n",
       "    }\n",
       "</style>\n",
       "<table border=\"1\" class=\"dataframe\">\n",
       "  <thead>\n",
       "    <tr style=\"text-align: right;\">\n",
       "      <th></th>\n",
       "      <th>ticket_id</th>\n",
       "      <th>agency_name</th>\n",
       "      <th>country</th>\n",
       "      <th>disposition</th>\n",
       "      <th>state_fee</th>\n",
       "      <th>late_fee</th>\n",
       "      <th>discount_amount</th>\n",
       "      <th>clean_up_cost</th>\n",
       "      <th>compliance</th>\n",
       "    </tr>\n",
       "  </thead>\n",
       "  <tbody>\n",
       "    <tr>\n",
       "      <th>0</th>\n",
       "      <td>22056</td>\n",
       "      <td>Buildings, Safety Engineering &amp; Env Department</td>\n",
       "      <td>USA</td>\n",
       "      <td>Responsible by Default</td>\n",
       "      <td>10.0</td>\n",
       "      <td>25.0</td>\n",
       "      <td>0.0</td>\n",
       "      <td>0.0</td>\n",
       "      <td>0.0</td>\n",
       "    </tr>\n",
       "    <tr>\n",
       "      <th>1</th>\n",
       "      <td>27586</td>\n",
       "      <td>Buildings, Safety Engineering &amp; Env Department</td>\n",
       "      <td>USA</td>\n",
       "      <td>Responsible by Determination</td>\n",
       "      <td>10.0</td>\n",
       "      <td>75.0</td>\n",
       "      <td>0.0</td>\n",
       "      <td>0.0</td>\n",
       "      <td>1.0</td>\n",
       "    </tr>\n",
       "    <tr>\n",
       "      <th>5</th>\n",
       "      <td>22046</td>\n",
       "      <td>Buildings, Safety Engineering &amp; Env Department</td>\n",
       "      <td>USA</td>\n",
       "      <td>Responsible by Default</td>\n",
       "      <td>10.0</td>\n",
       "      <td>25.0</td>\n",
       "      <td>0.0</td>\n",
       "      <td>0.0</td>\n",
       "      <td>0.0</td>\n",
       "    </tr>\n",
       "  </tbody>\n",
       "</table>\n",
       "</div>"
      ],
      "text/plain": [
       "   ticket_id                                     agency_name country  \\\n",
       "0      22056  Buildings, Safety Engineering & Env Department     USA   \n",
       "1      27586  Buildings, Safety Engineering & Env Department     USA   \n",
       "5      22046  Buildings, Safety Engineering & Env Department     USA   \n",
       "\n",
       "                    disposition  state_fee  late_fee  discount_amount  \\\n",
       "0        Responsible by Default       10.0      25.0              0.0   \n",
       "1  Responsible by Determination       10.0      75.0              0.0   \n",
       "5        Responsible by Default       10.0      25.0              0.0   \n",
       "\n",
       "   clean_up_cost  compliance  \n",
       "0            0.0         0.0  \n",
       "1            0.0         1.0  \n",
       "5            0.0         0.0  "
      ]
     },
     "execution_count": 79,
     "metadata": {},
     "output_type": "execute_result"
    }
   ],
   "source": [
    "## How many unique values in each categorical column?\n",
    "uniqueness_counts = tr_df[nominal_features].apply(lambda col: len(col.value_counts())).sort_values()\n",
    "print(uniqueness_counts)\n",
    "\n",
    "\"\"\"WE Will decide the number later\"\"\"\n",
    "## Arbitrary cutoff of 10 unique values\n",
    "drop_nonuniq_cols = uniqueness_counts[uniqueness_counts > 10].index\n",
    "tr_df = tr_df.drop(drop_nonuniq_cols, axis=1)\n",
    "\n",
    "print(tr_df.shape)\n",
    "tr_df.head(3)"
   ]
  },
  {
   "cell_type": "code",
   "execution_count": 80,
   "metadata": {},
   "outputs": [],
   "source": [
    "## Select the remaing columns and convert to categorical\n",
    "text_cols = tr_df.select_dtypes(include=['object']).columns\n",
    "for col in text_cols:\n",
    "    tr_df[col] = tr_df[col].astype('category')\n",
    "\n",
    "## Create dummy collumns and add to the dataframe and remoe the original\n",
    "tr_df = pd.concat([\n",
    "    tr_df,\n",
    "    pd.get_dummies(tr_df.select_dtypes(include=['category']))\n",
    "], axis=1)\n",
    "tr_df = tr_df.drop(text_cols, axis=1)"
   ]
  },
  {
   "cell_type": "code",
   "execution_count": 81,
   "metadata": {},
   "outputs": [
    {
     "data": {
      "text/html": [
       "<div>\n",
       "<style scoped>\n",
       "    .dataframe tbody tr th:only-of-type {\n",
       "        vertical-align: middle;\n",
       "    }\n",
       "\n",
       "    .dataframe tbody tr th {\n",
       "        vertical-align: top;\n",
       "    }\n",
       "\n",
       "    .dataframe thead th {\n",
       "        text-align: right;\n",
       "    }\n",
       "</style>\n",
       "<table border=\"1\" class=\"dataframe\">\n",
       "  <thead>\n",
       "    <tr style=\"text-align: right;\">\n",
       "      <th></th>\n",
       "      <th>ticket_id</th>\n",
       "      <th>state_fee</th>\n",
       "      <th>late_fee</th>\n",
       "      <th>discount_amount</th>\n",
       "      <th>clean_up_cost</th>\n",
       "      <th>compliance</th>\n",
       "      <th>agency_name_Buildings, Safety Engineering &amp; Env Department</th>\n",
       "      <th>agency_name_Department of Public Works</th>\n",
       "      <th>agency_name_Detroit Police Department</th>\n",
       "      <th>agency_name_Health Department</th>\n",
       "      <th>...</th>\n",
       "      <th>country_Germ</th>\n",
       "      <th>country_USA</th>\n",
       "      <th>disposition_Not responsible by City Dismissal</th>\n",
       "      <th>disposition_Not responsible by Determination</th>\n",
       "      <th>disposition_Not responsible by Dismissal</th>\n",
       "      <th>disposition_PENDING JUDGMENT</th>\n",
       "      <th>disposition_Responsible (Fine Waived) by Deter</th>\n",
       "      <th>disposition_Responsible by Admission</th>\n",
       "      <th>disposition_Responsible by Default</th>\n",
       "      <th>disposition_Responsible by Determination</th>\n",
       "    </tr>\n",
       "  </thead>\n",
       "  <tbody>\n",
       "    <tr>\n",
       "      <th>0</th>\n",
       "      <td>22056</td>\n",
       "      <td>10.0</td>\n",
       "      <td>25.0</td>\n",
       "      <td>0.0</td>\n",
       "      <td>0.0</td>\n",
       "      <td>0.0</td>\n",
       "      <td>1</td>\n",
       "      <td>0</td>\n",
       "      <td>0</td>\n",
       "      <td>0</td>\n",
       "      <td>...</td>\n",
       "      <td>0</td>\n",
       "      <td>1</td>\n",
       "      <td>0</td>\n",
       "      <td>0</td>\n",
       "      <td>0</td>\n",
       "      <td>0</td>\n",
       "      <td>0</td>\n",
       "      <td>0</td>\n",
       "      <td>1</td>\n",
       "      <td>0</td>\n",
       "    </tr>\n",
       "    <tr>\n",
       "      <th>1</th>\n",
       "      <td>27586</td>\n",
       "      <td>10.0</td>\n",
       "      <td>75.0</td>\n",
       "      <td>0.0</td>\n",
       "      <td>0.0</td>\n",
       "      <td>1.0</td>\n",
       "      <td>1</td>\n",
       "      <td>0</td>\n",
       "      <td>0</td>\n",
       "      <td>0</td>\n",
       "      <td>...</td>\n",
       "      <td>0</td>\n",
       "      <td>1</td>\n",
       "      <td>0</td>\n",
       "      <td>0</td>\n",
       "      <td>0</td>\n",
       "      <td>0</td>\n",
       "      <td>0</td>\n",
       "      <td>0</td>\n",
       "      <td>0</td>\n",
       "      <td>1</td>\n",
       "    </tr>\n",
       "    <tr>\n",
       "      <th>5</th>\n",
       "      <td>22046</td>\n",
       "      <td>10.0</td>\n",
       "      <td>25.0</td>\n",
       "      <td>0.0</td>\n",
       "      <td>0.0</td>\n",
       "      <td>0.0</td>\n",
       "      <td>1</td>\n",
       "      <td>0</td>\n",
       "      <td>0</td>\n",
       "      <td>0</td>\n",
       "      <td>...</td>\n",
       "      <td>0</td>\n",
       "      <td>1</td>\n",
       "      <td>0</td>\n",
       "      <td>0</td>\n",
       "      <td>0</td>\n",
       "      <td>0</td>\n",
       "      <td>0</td>\n",
       "      <td>0</td>\n",
       "      <td>1</td>\n",
       "      <td>0</td>\n",
       "    </tr>\n",
       "  </tbody>\n",
       "</table>\n",
       "<p>3 rows × 24 columns</p>\n",
       "</div>"
      ],
      "text/plain": [
       "   ticket_id  state_fee  late_fee  discount_amount  clean_up_cost  compliance  \\\n",
       "0      22056       10.0      25.0              0.0            0.0         0.0   \n",
       "1      27586       10.0      75.0              0.0            0.0         1.0   \n",
       "5      22046       10.0      25.0              0.0            0.0         0.0   \n",
       "\n",
       "   agency_name_Buildings, Safety Engineering & Env Department  \\\n",
       "0                                                  1            \n",
       "1                                                  1            \n",
       "5                                                  1            \n",
       "\n",
       "   agency_name_Department of Public Works  \\\n",
       "0                                       0   \n",
       "1                                       0   \n",
       "5                                       0   \n",
       "\n",
       "   agency_name_Detroit Police Department  agency_name_Health Department  \\\n",
       "0                                      0                              0   \n",
       "1                                      0                              0   \n",
       "5                                      0                              0   \n",
       "\n",
       "                     ...                     country_Germ  country_USA  \\\n",
       "0                    ...                                0            1   \n",
       "1                    ...                                0            1   \n",
       "5                    ...                                0            1   \n",
       "\n",
       "   disposition_Not responsible by City Dismissal  \\\n",
       "0                                              0   \n",
       "1                                              0   \n",
       "5                                              0   \n",
       "\n",
       "   disposition_Not responsible by Determination  \\\n",
       "0                                             0   \n",
       "1                                             0   \n",
       "5                                             0   \n",
       "\n",
       "   disposition_Not responsible by Dismissal  disposition_PENDING JUDGMENT  \\\n",
       "0                                         0                             0   \n",
       "1                                         0                             0   \n",
       "5                                         0                             0   \n",
       "\n",
       "   disposition_Responsible (Fine Waived) by Deter  \\\n",
       "0                                               0   \n",
       "1                                               0   \n",
       "5                                               0   \n",
       "\n",
       "   disposition_Responsible by Admission  disposition_Responsible by Default  \\\n",
       "0                                     0                                   1   \n",
       "1                                     0                                   0   \n",
       "5                                     0                                   1   \n",
       "\n",
       "   disposition_Responsible by Determination  \n",
       "0                                         0  \n",
       "1                                         1  \n",
       "5                                         0  \n",
       "\n",
       "[3 rows x 24 columns]"
      ]
     },
     "execution_count": 81,
     "metadata": {},
     "output_type": "execute_result"
    }
   ],
   "source": [
    "tr_df.head(3)"
   ]
  },
  {
   "cell_type": "code",
   "execution_count": 82,
   "metadata": {},
   "outputs": [
    {
     "data": {
      "text/plain": [
       "True"
      ]
     },
     "execution_count": 82,
     "metadata": {},
     "output_type": "execute_result"
    }
   ],
   "source": [
    "'compliance' in tr_df.columns"
   ]
  },
  {
   "cell_type": "markdown",
   "metadata": {},
   "source": [
    "# ** Update Define select_features( )"
   ]
  },
  {
   "cell_type": "code",
   "execution_count": 83,
   "metadata": {},
   "outputs": [],
   "source": [
    "def select_features(df, coeff_threshold=0.01, var_threshold=0.0001, uniq_threshold=10, num_col = None, cat_col = None):\n",
    "    flag = 'compliance' in df.columns\n",
    "    \n",
    "    ## if train dataset\n",
    "    if flag: \n",
    "\n",
    "## 1: correlation\n",
    "## a: remove low correlation with the target & high collinearity features \n",
    "        compliance = df['compliance']\n",
    "\n",
    "        numerical_df = tr_df.select_dtypes(include=['int', 'float'])\n",
    "        abs_corr_coeffs = numerical_df.corr()['compliance'].abs().sort_values()\n",
    "        strong_corrs = abs_corr_coeffs[abs_corr_coeffs > coeff_threshold]\n",
    "        df = df.drop(abs_corr_coeffs[abs_corr_coeffs < coeff_threshold].index, axis=1)\n",
    "\n",
    "#         final_corr_cols = strong_corrs.drop(['fine_amount', 'judgment_amount', 'admin_fee']).index\n",
    "        df = df.drop(['fine_amount', 'judgment_amount', 'admin_fee'], axis=1)\n",
    "        final_corr_cols = df.select_dtypes(include=['int', 'float']).columns\n",
    "        \n",
    "## b: removing features with low variance\n",
    "    ## for operational and compatibility reason, we locate this part in test_and_train\n",
    "\n",
    "## 2: Columns that are meant to be categorical\n",
    "## remove too many unique values\n",
    "        nominal_features = df.select_dtypes(include=['object']).columns.tolist()\n",
    "        uniqueness_counts = df[nominal_features].apply(lambda col: len(col.value_counts())).sort_values()\n",
    "        drop_nonuniq_cols = uniqueness_counts[uniqueness_counts > uniq_threshold].index\n",
    "        df = df.drop(drop_nonuniq_cols, axis=1)\n",
    "\n",
    "        ## Select the remaing columns and convert to categorical\n",
    "        text_cols = df.select_dtypes(include=['object']).columns\n",
    "        for col in text_cols:\n",
    "            df[col] = df[col].astype('category')\n",
    "\n",
    "\n",
    "        ## Create dummy collumns and add to the dataframe and remoe the original\n",
    "        df = pd.concat([df, pd.get_dummies(df.select_dtypes(include=['category']))], axis=1)\n",
    "        df = df.drop(text_cols, axis=1)\n",
    "\n",
    "        if 'compliance' not in df.columns:\n",
    "            df = pd.concat([df, compliance], axis=1)\n",
    "    \n",
    "    ## if test dataset\n",
    "    else:\n",
    "        columns = list()\n",
    "        \n",
    "        final_corr_cols = pd.Index(num_col)\n",
    "        \n",
    "        num_col = num_col.tolist()\n",
    "        num_col.remove('compliance')\n",
    "        columns.extend(num_col)\n",
    "        columns.extend(cat_col.tolist())\n",
    "        \n",
    "        df = df[columns]\n",
    "        \n",
    "        ## Select the remaing columns and convert to categorical\n",
    "        text_cols = df.select_dtypes(include=['object']).columns\n",
    "        for col in text_cols:\n",
    "            df[col] = df[col].astype('category')\n",
    "\n",
    "\n",
    "        ## Create dummy collumns and add to the dataframe and remoe the original\n",
    "        df = pd.concat([df, pd.get_dummies(df.select_dtypes(include=['category']))], axis=1)\n",
    "        df = df.drop(text_cols, axis=1)\n",
    "        \n",
    "        \n",
    "        \n",
    "    return (df, final_corr_cols.values, text_cols.values, var_threshold)"
   ]
  },
  {
   "cell_type": "code",
   "execution_count": 84,
   "metadata": {},
   "outputs": [],
   "source": [
    "def unify_models(tr_df, te_df):\n",
    "    tr_cols = tr_df.columns.values\n",
    "    te_cols = te_df.columns.values\n",
    "    canuse = tr_cols[np.in1d(tr_cols,  te_cols)].tolist()\n",
    "    canuse.append('compliance')\n",
    "    \n",
    "    tr_df = tr_df[canuse]\n",
    "    \n",
    "    canuse.remove('compliance')\n",
    "    te_df = te_df[canuse]\n",
    "    \n",
    "    return tr_df, te_df"
   ]
  },
  {
   "cell_type": "code",
   "execution_count": 85,
   "metadata": {},
   "outputs": [],
   "source": [
    "train_df = pd.read_csv('train.csv', encoding='Latin 1')\n",
    "test_df = pd.read_csv('test.csv', encoding='Latin 1')"
   ]
  },
  {
   "cell_type": "code",
   "execution_count": 86,
   "metadata": {},
   "outputs": [],
   "source": [
    "tr_df = transform_features(train_df)\n",
    "te_df = transform_features(test_df)"
   ]
  },
  {
   "cell_type": "code",
   "execution_count": 87,
   "metadata": {},
   "outputs": [],
   "source": [
    "tr_df, *arg_tr = select_features(tr_df)"
   ]
  },
  {
   "cell_type": "code",
   "execution_count": 88,
   "metadata": {},
   "outputs": [],
   "source": [
    "te_df, *arg_te = select_features(te_df, num_col=arg_tr[0], cat_col=arg_tr[1], var_threshold=arg_tr[-1])"
   ]
  },
  {
   "cell_type": "code",
   "execution_count": 89,
   "metadata": {},
   "outputs": [
    {
     "data": {
      "text/plain": [
       "((159970, 24), (61001, 17))"
      ]
     },
     "execution_count": 89,
     "metadata": {},
     "output_type": "execute_result"
    }
   ],
   "source": [
    "tr_df.shape, te_df.shape"
   ]
  },
  {
   "cell_type": "code",
   "execution_count": 90,
   "metadata": {},
   "outputs": [],
   "source": [
    "tr_df, te_df = unify_models(tr_df, te_df)"
   ]
  },
  {
   "cell_type": "code",
   "execution_count": 91,
   "metadata": {},
   "outputs": [
    {
     "data": {
      "text/plain": [
       "((159970, 14), (61001, 13))"
      ]
     },
     "execution_count": 91,
     "metadata": {},
     "output_type": "execute_result"
    }
   ],
   "source": [
    "tr_df.shape, te_df.shape"
   ]
  },
  {
   "cell_type": "markdown",
   "metadata": {},
   "source": [
    "# 4. Model Selection"
   ]
  },
  {
   "cell_type": "code",
   "execution_count": 92,
   "metadata": {},
   "outputs": [],
   "source": [
    "from sklearn.model_selection import GridSearchCV\n",
    "from sklearn.linear_model import LogisticRegression\n",
    "from sklearn.neighbors import KNeighborsClassifier\n",
    "from sklearn.ensemble import RandomForestClassifier"
   ]
  },
  {
   "cell_type": "code",
   "execution_count": 93,
   "metadata": {},
   "outputs": [],
   "source": [
    "def select_model(df):\n",
    "    warnings.simplefilter(\"ignore\")\n",
    "    \n",
    "    columns = df.columns.drop('compliance').values\n",
    "    all_X = df.copy()[columns]\n",
    "    all_y = df.copy()['compliance']\n",
    "    \n",
    "    # List of dictionaries, each containing\n",
    "    # a model name, estimator, and a dict of hyperparameters\n",
    "    \n",
    "    models =[\n",
    "        {\n",
    "            \"name\" : \"LogisticRegression\",\n",
    "            \"estimator\" : LogisticRegression(),\n",
    "            \"hyperparameters\":\n",
    "                {\n",
    "                    \"solver\": ['newton-cg', 'lbfgs', 'liblinear']\n",
    "                }\n",
    "        },\n",
    "#         {\n",
    "#             \"name\" : \"KNeighborsClassifier\",\n",
    "#             \"estimator\" : KNeighborsClassifier(),\n",
    "#             \"hyperparameters\":\n",
    "#                 {\n",
    "#                     \"n_neighbors\": range(1,20,3),\n",
    "#                     \"weights\": [\"distance\", \"uniform\"],\n",
    "#                     \"algorithm\": [\"ball_tree\", \"kd_tree\", \"brute\"],\n",
    "#                     \"p\": [1,2]\n",
    "#                 }\n",
    "#         },\n",
    "        {\n",
    "            \"name\": \"RandomForestClassifier\",\n",
    "            \"estimator\": RandomForestClassifier(random_state=1),\n",
    "            \"hyperparameters\":\n",
    "                {\n",
    "                    \"n_estimators\": [5, 10, 15, 20, 30],\n",
    "                    \"criterion\": [\"entropy\", \"gini\"],\n",
    "                    \"max_depth\": [2, 5, 10],\n",
    "                    \"max_features\": [\"log2\", \"sqrt\"],\n",
    "                    \"min_samples_leaf\": [1, 5, 8],\n",
    "                    \"min_samples_split\": [2, 3, 5]\n",
    "\n",
    "                }\n",
    "        }\n",
    "    ] # end model\n",
    "\n",
    "    for model in models:\n",
    "        print(model[\"name\"])\n",
    "        print('-'*len(model[\"name\"]))\n",
    "        \n",
    "        grid = GridSearchCV(model['estimator'], \n",
    "                            param_grid=model['hyperparameters'], \n",
    "                            cv=10)\n",
    "        grid.fit(all_X, all_y)\n",
    "        \n",
    "        model['best_params'] = grid.best_params_\n",
    "        model['best_score'] = grid.best_score_\n",
    "        model['best_model'] = grid.best_estimator_\n",
    "        \n",
    "        print(f'Best Score: {model[\"best_score\"]}')\n",
    "        nl = '\\n'\n",
    "        print(f'Best Parameters: {nl}{model[\"best_params\"]}{nl}')\n",
    "        \n",
    "    return models"
   ]
  },
  {
   "cell_type": "code",
   "execution_count": 94,
   "metadata": {},
   "outputs": [
    {
     "name": "stdout",
     "output_type": "stream",
     "text": [
      "LogisticRegression\n",
      "------------------\n",
      "Best Score: 0.9346940051259611\n",
      "Best Parameters: \n",
      "{'solver': 'newton-cg'}\n",
      "\n",
      "RandomForestClassifier\n",
      "----------------------\n",
      "Best Score: 0.9274676501844096\n",
      "Best Parameters: \n",
      "{'criterion': 'gini', 'max_depth': 2, 'max_features': 'log2', 'min_samples_leaf': 1, 'min_samples_split': 2, 'n_estimators': 30}\n",
      "\n"
     ]
    },
    {
     "data": {
      "text/plain": [
       "[{'name': 'LogisticRegression',\n",
       "  'estimator': LogisticRegression(C=1.0, class_weight=None, dual=False, fit_intercept=True,\n",
       "            intercept_scaling=1, max_iter=100, multi_class='ovr', n_jobs=1,\n",
       "            penalty='l2', random_state=None, solver='liblinear', tol=0.0001,\n",
       "            verbose=0, warm_start=False),\n",
       "  'hyperparameters': {'solver': ['newton-cg', 'lbfgs', 'liblinear']},\n",
       "  'best_params': {'solver': 'newton-cg'},\n",
       "  'best_score': 0.9346940051259611,\n",
       "  'best_model': LogisticRegression(C=1.0, class_weight=None, dual=False, fit_intercept=True,\n",
       "            intercept_scaling=1, max_iter=100, multi_class='ovr', n_jobs=1,\n",
       "            penalty='l2', random_state=None, solver='newton-cg', tol=0.0001,\n",
       "            verbose=0, warm_start=False)},\n",
       " {'name': 'RandomForestClassifier',\n",
       "  'estimator': RandomForestClassifier(bootstrap=True, class_weight=None, criterion='gini',\n",
       "              max_depth=None, max_features='auto', max_leaf_nodes=None,\n",
       "              min_impurity_decrease=0.0, min_impurity_split=None,\n",
       "              min_samples_leaf=1, min_samples_split=2,\n",
       "              min_weight_fraction_leaf=0.0, n_estimators=10, n_jobs=1,\n",
       "              oob_score=False, random_state=1, verbose=0, warm_start=False),\n",
       "  'hyperparameters': {'n_estimators': [5, 10, 15, 20, 30],\n",
       "   'criterion': ['entropy', 'gini'],\n",
       "   'max_depth': [2, 5, 10],\n",
       "   'max_features': ['log2', 'sqrt'],\n",
       "   'min_samples_leaf': [1, 5, 8],\n",
       "   'min_samples_split': [2, 3, 5]},\n",
       "  'best_params': {'criterion': 'gini',\n",
       "   'max_depth': 2,\n",
       "   'max_features': 'log2',\n",
       "   'min_samples_leaf': 1,\n",
       "   'min_samples_split': 2,\n",
       "   'n_estimators': 30},\n",
       "  'best_score': 0.9274676501844096,\n",
       "  'best_model': RandomForestClassifier(bootstrap=True, class_weight=None, criterion='gini',\n",
       "              max_depth=2, max_features='log2', max_leaf_nodes=None,\n",
       "              min_impurity_decrease=0.0, min_impurity_split=None,\n",
       "              min_samples_leaf=1, min_samples_split=2,\n",
       "              min_weight_fraction_leaf=0.0, n_estimators=30, n_jobs=1,\n",
       "              oob_score=False, random_state=1, verbose=0, warm_start=False)}]"
      ]
     },
     "execution_count": 94,
     "metadata": {},
     "output_type": "execute_result"
    }
   ],
   "source": [
    "select_model(tr_df)"
   ]
  },
  {
   "cell_type": "markdown",
   "metadata": {},
   "source": [
    "# 5. Final Submission"
   ]
  },
  {
   "cell_type": "code",
   "execution_count": 95,
   "metadata": {},
   "outputs": [],
   "source": [
    "import pandas as pd\n",
    "import numpy as np\n",
    "from sklearn.model_selection import GridSearchCV\n",
    "from sklearn.linear_model import LogisticRegression\n",
    "from sklearn.neighbors import KNeighborsClassifier\n",
    "from sklearn.ensemble import RandomForestClassifier\n",
    "import warnings\n",
    "warnings.simplefilter(\"ignore\")\n",
    "\n",
    "\n",
    "def blight_model():\n",
    "############ begin helper ##############\n",
    "    def target_maker(x):\n",
    "        if x == 1.0:\n",
    "            return 1.0\n",
    "        elif x == 0.0:\n",
    "            return 0.0\n",
    "        else:\n",
    "            return -1.0\n",
    "\n",
    "    def date_parser_paid(row):\n",
    "        try:\n",
    "            if row['hearing_date'] >= row['payment_date']:\n",
    "                return 1.0\n",
    "            else:\n",
    "                return row['compliance']\n",
    "        except:\n",
    "            return row['compliance']\n",
    "\n",
    "    def date_parser_not_paid(row):\n",
    "        try:\n",
    "            if row['hearing_date'] < row['payment_date']:\n",
    "                return 0.0\n",
    "            else:\n",
    "                return row['compliance']\n",
    "        except:\n",
    "            return row['compliance']\n",
    "\n",
    "    def get_full_address(addresses, latlons):\n",
    "        ## 1. split latlons into address w/o zipcode and zipcode\n",
    "        dummies = latlons['address'].str.extractall(r'(?P<address>\\d+ [a-zA-Z ]+, \\w+ [A-Z]{2}) (?P<violation_zip_code>\\d+)')\n",
    "        dummies.index = dummies.index.droplevel(1)\n",
    "\n",
    "        ## 2. adding to addresses\n",
    "        temp = pd.merge(addresses, dummies, how='left', on='address')\n",
    "\n",
    "        ## 3. expand address columns to 'address', 'violation_street_number', 'violation_street_name', 'city', 'state'\n",
    "        dummies = temp['address'].str.extractall(r'(?P<address>(?P<violation_street_number>[0-9]{1,6}) (?P<violation_street_name>[a-zA-Z ]+), (?P<city>\\w+) (?P<state>[A-Z]{2}))')\n",
    "        dummies.index = dummies.index.droplevel(1)\n",
    "\n",
    "        final_address = pd.concat([temp, dummies], axis=1)\n",
    "        final_address = final_address.drop(['address', 'city', 'state'], axis=1)\n",
    "\n",
    "        return final_address\n",
    "\n",
    "    def transform_features(df):\n",
    "        ## to check if train or test\n",
    "        cols = ['payment_amount', 'balance_due', 'payment_date', 'payment_status', \n",
    "                'collection_status', 'compliance_detail']\n",
    "        flag = True if np.in1d(cols, df.columns.values).sum() else False\n",
    "\n",
    "        ## if train dataset\n",
    "        if flag: \n",
    "\n",
    "        ## 0. Setting target - update target 'compliance'\n",
    "            temp = df['compliance'].map(target_maker)\n",
    "            df = df.drop(['compliance'], axis=1)\n",
    "            df = pd.concat([df, temp], axis=1)\n",
    "\n",
    "            isna_paid_idx = df[(df['compliance'] == -1.0) & (df['payment_status'] == 'PAID IN FULL')].index.values\n",
    "            isna_no_paid_idx = df[(df['compliance'] == -1.0) & (df['payment_status'] == 'NO PAYMENT APPLIED')].index.values\n",
    "\n",
    "            ## update 'PAID IN FULL' & 'hearing_date' >= 'payment_date'\n",
    "            df.loc[isna_paid_idx, 'compliance'] = df.loc[isna_paid_idx].apply(date_parser_paid, axis=1)\n",
    "            ## update 'NO PAYMENT APPLIED' & 'hearing_date' < 'payment_date'\n",
    "            df.loc[isna_no_paid_idx, 'compliance'] = df.loc[isna_no_paid_idx].apply(date_parser_not_paid, axis=1)\n",
    "\n",
    "            isna_idx = df[df['compliance'] ==  -1.0].index.values\n",
    "            ## drop no target data ('not responsible')\n",
    "            df = df.drop(df.index[isna_idx])\n",
    "\n",
    "        ## Handling Missing Values\n",
    "        ## 1. All columns: Drop any with more than 5% missing values\n",
    "            num_missing = df.isnull().sum()\n",
    "            drop_missing_cols = num_missing[(num_missing / len(df) * 100) > 5.0].index\n",
    "            try:\n",
    "                df = df.drop(drop_missing_cols, axis=1)\n",
    "            except:\n",
    "                pass\n",
    "\n",
    "        ## 2. Text columns: Drop any with 1 or more missing values\n",
    "            ## count missing values in each text column\n",
    "            text_mv_counts = df.select_dtypes(include=['object']).isnull().sum().sort_values(ascending=False)\n",
    "            ## Filter Series to columns containing *any* missing values\n",
    "            drop_missing_cols = text_mv_counts[text_mv_counts != 0].index\n",
    "            try:\n",
    "                df = df.drop(drop_missing_cols, axis=1)\n",
    "            except:\n",
    "                pass\n",
    "\n",
    "        ## 3. Numerical columns: For columns with missing vlaues, fill in with the most common values in that column\n",
    "            ## Count missing values in each numeric columns\n",
    "            num_missing = df.select_dtypes(include=['int', 'float']).isnull().sum()\n",
    "            fixable_numeric_cols = num_missing[(num_missing < len(df)/20) & (num_missing > 0)].sort_values()\n",
    "            replacement_values_dict = df[fixable_numeric_cols.index].mode().to_dict(orient='records')[0]\n",
    "            df = df.fillna(replacement_values_dict)\n",
    "\n",
    "        ## 4. Drop columns: of no meaningful + leak data about compliance (target)\n",
    "            ## None    \n",
    "\n",
    "            ## Drop columns that leak info about compliance + unnecessary info (redundant)\n",
    "            features = [col for col in df.columns if col not in cols]\n",
    "            df = df[features]\n",
    "\n",
    "        ## if test dataset        \n",
    "        else: \n",
    "            features = tr_df.columns.drop('compliance').values # must be defined beforehand\n",
    "            df = df[features]\n",
    "\n",
    "        return df\n",
    "\n",
    "    def select_features(df, coeff_threshold=0.01, var_threshold=0.0001, uniq_threshold=10, num_col = None, cat_col = None):\n",
    "        flag = 'compliance' in df.columns\n",
    "\n",
    "        ## if train dataset\n",
    "        if flag: \n",
    "\n",
    "    ## 1: correlation\n",
    "    ## a: remove low correlation with the target & high collinearity features \n",
    "            compliance = df['compliance']\n",
    "\n",
    "            numerical_df = tr_df.select_dtypes(include=['int', 'float'])\n",
    "            abs_corr_coeffs = numerical_df.corr()['compliance'].abs().sort_values()\n",
    "            strong_corrs = abs_corr_coeffs[abs_corr_coeffs > coeff_threshold]\n",
    "            df = df.drop(abs_corr_coeffs[abs_corr_coeffs < coeff_threshold].index, axis=1)\n",
    "\n",
    "    #         final_corr_cols = strong_corrs.drop(['fine_amount', 'judgment_amount', 'admin_fee']).index\n",
    "            df = df.drop(['fine_amount', 'judgment_amount', 'admin_fee'], axis=1)\n",
    "            final_corr_cols = df.select_dtypes(include=['int', 'float']).columns\n",
    "\n",
    "    ## b: removing features with low variance\n",
    "        ## for operational and compatibility reason, we locate this part in test_and_train\n",
    "\n",
    "    ## 2: Columns that are meant to be categorical\n",
    "    ## remove too many unique values\n",
    "            nominal_features = df.select_dtypes(include=['object']).columns.tolist()\n",
    "            uniqueness_counts = df[nominal_features].apply(lambda col: len(col.value_counts())).sort_values()\n",
    "            drop_nonuniq_cols = uniqueness_counts[uniqueness_counts > uniq_threshold].index\n",
    "            df = df.drop(drop_nonuniq_cols, axis=1)\n",
    "\n",
    "            ## Select the remaing columns and convert to categorical\n",
    "            text_cols = df.select_dtypes(include=['object']).columns\n",
    "            for col in text_cols:\n",
    "                df[col] = df[col].astype('category')\n",
    "\n",
    "\n",
    "            ## Create dummy collumns and add to the dataframe and remoe the original\n",
    "            df = pd.concat([df, pd.get_dummies(df.select_dtypes(include=['category']))], axis=1)\n",
    "            df = df.drop(text_cols, axis=1)\n",
    "\n",
    "            if 'compliance' not in df.columns:\n",
    "                df = pd.concat([df, compliance], axis=1)\n",
    "\n",
    "        ## if test dataset\n",
    "        else:\n",
    "            columns = list()\n",
    "\n",
    "            final_corr_cols = pd.Index(num_col)\n",
    "\n",
    "            num_col = num_col.tolist()\n",
    "            num_col.remove('compliance')\n",
    "            columns.extend(num_col)\n",
    "            columns.extend(cat_col.tolist())\n",
    "\n",
    "            df = df[columns]\n",
    "\n",
    "            ## Select the remaing columns and convert to categorical\n",
    "            text_cols = df.select_dtypes(include=['object']).columns\n",
    "            for col in text_cols:\n",
    "                df[col] = df[col].astype('category')\n",
    "\n",
    "\n",
    "            ## Create dummy collumns and add to the dataframe and remoe the original\n",
    "            df = pd.concat([df, pd.get_dummies(df.select_dtypes(include=['category']))], axis=1)\n",
    "            df = df.drop(text_cols, axis=1)\n",
    "\n",
    "        return (df, final_corr_cols.values, text_cols.values, var_threshold)\n",
    "\n",
    "    def unify_models(tr_df, te_df):\n",
    "        tr_cols = tr_df.columns.values\n",
    "        te_cols = te_df.columns.values\n",
    "        canuse = tr_cols[np.in1d(tr_cols,  te_cols)].tolist()\n",
    "        canuse.append('compliance')\n",
    "\n",
    "        tr_df = tr_df[canuse]\n",
    "\n",
    "        canuse.remove('compliance')\n",
    "        te_df = te_df[canuse]\n",
    "\n",
    "        return tr_df, te_df\n",
    "############ end helper ##############\n",
    "    \n",
    "    train_df = pd.read_csv('train.csv', encoding='Latin 1')\n",
    "    test_df = pd.read_csv('test.csv', encoding='Latin 1')\n",
    "    \n",
    "    tr_df = transform_features(train_df)\n",
    "    te_df = transform_features(test_df)\n",
    "    \n",
    "    tr_df, *arg_tr = select_features(tr_df)\n",
    "    te_df, *arg_te = select_features(te_df, num_col=arg_tr[0], cat_col=arg_tr[1], var_threshold=arg_tr[-1])\n",
    "    tr_df, te_df = unify_models(tr_df, te_df)\n",
    "    \n",
    "    features = tr_df.columns.drop('compliance').values\n",
    "    train_X = tr_df.copy()[features]\n",
    "    train_y = tr_df.copy()['compliance']\n",
    "    test_X = te_df.copy()\n",
    "    \n",
    "    ### 1. if down with lr ####\n",
    "    lr = LogisticRegression(solver = 'newton-cg')\n",
    "    lr.fit(train_X, train_y)\n",
    "    predict_proba = lr.predict_proba(test_X) # return value\n",
    "    ########################\n",
    "    \n",
    "#     ### 2. if down with rfc ####\n",
    "#     rfc = RandomForestClassifier(criterion='gini', max_depth=2, \n",
    "#                                  max_features='log2', min_samples_leaf=1, \n",
    "#                                  min_samples_split=2, n_estimators = 30)\n",
    "#     rfc.fit(train_X, train_y)\n",
    "#     predict_proba = rfc.predict_proba(test_X)\n",
    "#     ########################\n",
    "    \n",
    "    submission = pd.DataFrame({\n",
    "            \"ticket_id\": test_X['ticket_id'],\n",
    "            \"compliance\": predict_proba[:, 1]\n",
    "        })\n",
    "    submission.set_index('ticket_id', inplace=True)\n",
    "    submission['compliance'] = submission['compliance'].astype('float32')\n",
    "    \n",
    "    return submission['compliance']\n",
    "    "
   ]
  },
  {
   "cell_type": "code",
   "execution_count": 96,
   "metadata": {},
   "outputs": [
    {
     "data": {
      "text/plain": [
       "ticket_id\n",
       "284932    0.049908\n",
       "285362    0.016545\n",
       "285361    0.057113\n",
       "285338    0.049913\n",
       "285346    0.057112\n",
       "285345    0.049913\n",
       "285347    0.061068\n",
       "285342    0.436986\n",
       "285530    0.016546\n",
       "284989    0.033138\n",
       "285344    0.061068\n",
       "285343    0.016545\n",
       "285340    0.016545\n",
       "285341    0.061068\n",
       "285349    0.057112\n",
       "285348    0.049913\n",
       "284991    0.033138\n",
       "285532    0.033143\n",
       "285406    0.033142\n",
       "285001    0.025197\n",
       "285006    0.012528\n",
       "285405    0.016546\n",
       "285337    0.033141\n",
       "285496    0.061070\n",
       "285497    0.049915\n",
       "285378    0.016545\n",
       "285589    0.033143\n",
       "285585    0.049916\n",
       "285501    0.057115\n",
       "285581    0.016546\n",
       "            ...   \n",
       "376367    0.018200\n",
       "376366    0.036395\n",
       "376362    0.295656\n",
       "376363    0.310689\n",
       "376365    0.018200\n",
       "376364    0.036395\n",
       "376228    0.036394\n",
       "376265    0.036394\n",
       "376286    0.217906\n",
       "376320    0.036394\n",
       "376314    0.036394\n",
       "376327    0.217908\n",
       "376385    0.217911\n",
       "376435    0.374676\n",
       "376370    0.374672\n",
       "376434    0.075352\n",
       "376459    0.070541\n",
       "376478    0.000071\n",
       "376473    0.036396\n",
       "376484    0.033981\n",
       "376482    0.025779\n",
       "376480    0.025779\n",
       "376479    0.025779\n",
       "376481    0.025779\n",
       "376483    0.036396\n",
       "376496    0.012821\n",
       "376497    0.012821\n",
       "376499    0.070542\n",
       "376500    0.070542\n",
       "369851    0.066613\n",
       "Name: compliance, Length: 61001, dtype: float32"
      ]
     },
     "execution_count": 96,
     "metadata": {},
     "output_type": "execute_result"
    }
   ],
   "source": [
    "blight_model()"
   ]
  }
 ],
 "metadata": {
  "coursera": {
   "course_slug": "python-machine-learning",
   "graded_item_id": "nNS8l",
   "launcher_item_id": "yWWk7",
   "part_id": "w8BSS"
  },
  "kernelspec": {
   "display_name": "Python 3",
   "language": "python",
   "name": "python3"
  },
  "language_info": {
   "codemirror_mode": {
    "name": "ipython",
    "version": 3
   },
   "file_extension": ".py",
   "mimetype": "text/x-python",
   "name": "python",
   "nbconvert_exporter": "python",
   "pygments_lexer": "ipython3",
   "version": "3.6.5"
  }
 },
 "nbformat": 4,
 "nbformat_minor": 2
}
